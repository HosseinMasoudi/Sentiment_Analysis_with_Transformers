{
  "cells": [
    {
      "cell_type": "code",
      "execution_count": 4,
      "id": "Rk2O6E9CiAyh",
      "metadata": {
        "colab": {
          "base_uri": "https://localhost:8080/"
        },
        "id": "Rk2O6E9CiAyh",
        "outputId": "172390ce-091b-49a8-8ea2-302412ebec0c"
      },
      "outputs": [
        {
          "name": "stdout",
          "output_type": "stream",
          "text": [
            "Requirement already satisfied: num2fawords in /usr/local/lib/python3.11/dist-packages (1.1)\n"
          ]
        }
      ],
      "source": [
        "!pip install num2fawords\n"
      ]
    },
    {
      "cell_type": "code",
      "execution_count": 5,
      "id": "IpNFm9z7iLBx",
      "metadata": {
        "colab": {
          "base_uri": "https://localhost:8080/"
        },
        "id": "IpNFm9z7iLBx",
        "outputId": "dad76894-9c7c-4aa2-f0a3-9d25a771c297"
      },
      "outputs": [
        {
          "name": "stdout",
          "output_type": "stream",
          "text": [
            "Collecting parsivar\n",
            "  Downloading parsivar-0.2.3.1-py3-none-any.whl.metadata (242 bytes)\n",
            "Requirement already satisfied: nltk>=3.6.6 in /usr/local/lib/python3.11/dist-packages (from parsivar) (3.9.1)\n",
            "Requirement already satisfied: click in /usr/local/lib/python3.11/dist-packages (from nltk>=3.6.6->parsivar) (8.2.1)\n",
            "Requirement already satisfied: joblib in /usr/local/lib/python3.11/dist-packages (from nltk>=3.6.6->parsivar) (1.5.1)\n",
            "Requirement already satisfied: regex>=2021.8.3 in /usr/local/lib/python3.11/dist-packages (from nltk>=3.6.6->parsivar) (2024.11.6)\n",
            "Requirement already satisfied: tqdm in /usr/local/lib/python3.11/dist-packages (from nltk>=3.6.6->parsivar) (4.67.1)\n",
            "Downloading parsivar-0.2.3.1-py3-none-any.whl (18.0 MB)\n",
            "\u001b[2K   \u001b[90m━━━━━━━━━━━━━━━━━━━━━━━━━━━━━━━━━━━━━━━━\u001b[0m \u001b[32m18.0/18.0 MB\u001b[0m \u001b[31m21.9 MB/s\u001b[0m eta \u001b[36m0:00:00\u001b[0m\n",
            "\u001b[?25hInstalling collected packages: parsivar\n",
            "Successfully installed parsivar-0.2.3.1\n"
          ]
        }
      ],
      "source": [
        "!pip install parsivar"
      ]
    },
    {
      "cell_type": "code",
      "execution_count": 11,
      "id": "59b2a809",
      "metadata": {
        "id": "59b2a809"
      },
      "outputs": [],
      "source": [
        "import pandas as pd\n",
        "import numpy as np\n",
        "import matplotlib.pyplot as plt\n",
        "import seaborn as sns\n",
        "import re\n",
        "import tensorflow as tf\n",
        "import transformers\n",
        "import JackageNormalizer\n",
        "\n",
        "from parsivar import Tokenizer\n",
        "from JackageNormalizer import normalize_persian_text\n",
        "\n",
        "from sklearn.model_selection import train_test_split\n",
        "from sklearn.metrics import f1_score, accuracy_score, precision_score, recall_score, confusion_matrix, classification_report\n",
        "\n",
        "from transformers import pipeline\n",
        "from transformers import AutoTokenizer, TFAutoModelForSequenceClassification\n",
        "from transformers import DataCollatorWithPadding\n",
        "from transformers import DistilBertTokenizerFast\n",
        "from transformers import TFDistilBertForSequenceClassification\n",
        "\n",
        "import tqdm as notebook_tqdm"
      ]
    },
    {
      "cell_type": "markdown",
      "id": "3a7c4a04",
      "metadata": {
        "id": "3a7c4a04"
      },
      "source": [
        "testing the pip line...\n",
        "\n",
        "the model I chose only has a PyTorch checkpoint."
      ]
    },
    {
      "cell_type": "code",
      "execution_count": null,
      "id": "2afae982",
      "metadata": {
        "id": "2afae982"
      },
      "outputs": [],
      "source": [
        "# Use a pipeline as a high-level helper\n",
        "pipe = pipeline(\"text-classification\", model=\"HooshvareLab/bert-fa-base-uncased-sentiment-snappfood\", framework=\"tf\")\n",
        "# Example usage of the pipeline\n",
        "result = pipe(\"این غذا خیلی خوشمزه بود!\")\n",
        "print(result)"
      ]
    },
    {
      "cell_type": "markdown",
      "id": "a34278bc",
      "metadata": {
        "id": "a34278bc"
      },
      "source": [
        "### 1. Load and Inspect Your Dataset"
      ]
    },
    {
      "cell_type": "code",
      "execution_count": 13,
      "id": "f9038113",
      "metadata": {
        "colab": {
          "base_uri": "https://localhost:8080/",
          "height": 206
        },
        "id": "f9038113",
        "outputId": "19e573ce-c322-4066-d369-3185ca3e8c86"
      },
      "outputs": [
        {
          "data": {
            "application/vnd.google.colaboratory.intrinsic+json": {
              "summary": "{\n  \"name\": \"df\",\n  \"rows\": 65973,\n  \"fields\": [\n    {\n      \"column\": \"comment\",\n      \"properties\": {\n        \"dtype\": \"string\",\n        \"num_unique_values\": 65969,\n        \"samples\": [\n          \"\\u063a\\u0630\\u0627 \\u0628\\u0633\\u06cc\\u0627\\u0631 \\u0628\\u062f \\u0637\\u0639\\u0645\\u060c \\u0628\\u06cc\\u200c\\u06a9\\u06cc\\u0641\\u06cc\\u062a \\u0648 \\u0628\\u0627 \\u0627\\u06cc\\u0646\\u06a9\\u0647 \\u06af\\u0641\\u062a\\u0647\\u200c\\u0634\\u062f\\u0647 \\u0628\\u0648\\u062f \\u0628\\u0631\\u0627\\u06cc \\u06f4 \\u062a\\u0627 \\u06f6 \\u0646\\u0641\\u0631 \\u0648\\u0644\\u06cc \\u0646\\u0647\\u0627\\u06cc\\u062a\\u0627 \\u0628\\u0631\\u0627\\u06cc \\u06f2 \\u062a\\u0627 \\u06f3 \\u0646\\u0641\\u0631 \\u06a9\\u0627\\u0641\\u06cc \\u0628\\u0648\\u062f. \\u063a\\u0630\\u0627 \\u06a9\\u0627\\u0645\\u0644\\u0627 \\u0633\\u0631\\u062f \\u0648 \\u0628\\u062f\\u0648\\u0646 \\u0647\\u06cc\\u0686\\u06af\\u0648\\u0646\\u0647 \\u062f\\u0648\\u0631\\u0686\\u06cc\\u0646 \\u0633\\u0631\\u0648 \\u0634\\u062f\\u0647 \\u0628\\u0648\\u062f\",\n          \"\\u0645\\u0646 \\u0686\\u0646\\u062f\\u06cc\\u0646 \\u0633\\u0631\\u06cc \\u0627\\u0632 \\u0627\\u06cc\\u0646 \\u0641\\u0633\\u062a \\u0641\\u0648\\u062f\\u06cc \\u063a\\u0630\\u0627 \\u06af\\u0631\\u0641\\u062a\\u0645 \\u0648 \\u0628\\u06cc\\u0634\\u062a\\u0631 \\u062f\\u0641\\u0639\\u0627\\u062a \\u062e\\u0648\\u0628 \\u0648 \\u0642\\u0627\\u0628\\u0644\\u200c\\u0642\\u0628\\u0648\\u0644 \\u0628\\u0648\\u062f\\u0647 \\u0648\\u0644\\u06cc \\u0627\\u06cc\\u0646 \\u0633\\u0631\\u06cc \\u0622\\u062e\\u0631 \\u0641\\u0648\\u0642\\u200c\\u0627\\u0644\\u0639\\u0627\\u062f\\u0647 \\u063a\\u0630\\u0627 \\u0628\\u06cc\\u200c\\u06a9\\u06cc\\u0641\\u06cc\\u062a \\u0648 \\u0645\\u0648\\u0646\\u062f\\u0647 \\u0628\\u0648\\u062f \\u062c\\u0627\\u06cc \\u062a\\u0627\\u0633\\u0641 \\u062f\\u0627\\u0631\\u0647 \\u0648\\u0627\\u0642\\u0639\\u0627\",\n          \"\\u062f\\u0633\\u062a\\u0634\\u0648\\u0646 \\u062f\\u0631\\u062f \\u0646\\u06a9\\u0646\\u0647 \\u0648\\u0627\\u0642\\u0639\\u0627. \\u0628\\u0627 \\u0645\\u0646 \\u062a\\u0645\\u0627\\u0633 \\u06af\\u0631\\u0641\\u062a\\u0646 \\u0627\\u062c\\u0627\\u0632\\u0647 \\u0628\\u06af\\u06cc\\u0631\\u0646 \\u0648\\u0627\\u0633\\u0647 \\u062a\\u063a\\u06cc\\u06cc\\u0631 \\u0628\\u0631\\u0646\\u062f \\u0627\\u0646\\u062a\\u062e\\u0627\\u0628\\u06cc. \\u06af\\u0641\\u062a\\u0646 \\u0627\\u06cc\\u0646 \\u062e\\u0631\\u0645\\u0627\\u06cc\\u06cc \\u06a9\\u0647 \\u0633\\u0641\\u0627\\u0631\\u0634 \\u062f\\u0627\\u062f\\u06cc\\u0646 \\u06a9\\u0645\\u06cc \\u0631\\u06cc\\u0632\\u0647. \\u062e\\u0631\\u0645\\u0627\\u06cc \\u0628\\u0647\\u062a\\u0631 \\u0628\\u0631\\u0627\\u062a\\u0648\\u0646 \\u0645\\u06cc\\u0630\\u0627\\u0631\\u0645. \\u0648\\u0627\\u0642\\u0639\\u0627 \\u0645\\u0645\\u0646\\u0648\\u0646\\u0645 \\u0627\\u0632\\u0634\\u0648\\u0646.\"\n        ],\n        \"semantic_type\": \"\",\n        \"description\": \"\"\n      }\n    },\n    {\n      \"column\": \"label\",\n      \"properties\": {\n        \"dtype\": \"number\",\n        \"std\": 0,\n        \"min\": 0,\n        \"max\": 1,\n        \"num_unique_values\": 2,\n        \"samples\": [\n          1,\n          0\n        ],\n        \"semantic_type\": \"\",\n        \"description\": \"\"\n      }\n    },\n    {\n      \"column\": \"comment_length\",\n      \"properties\": {\n        \"dtype\": \"number\",\n        \"std\": 48,\n        \"min\": 11,\n        \"max\": 226,\n        \"num_unique_values\": 216,\n        \"samples\": [\n          204,\n          11\n        ],\n        \"semantic_type\": \"\",\n        \"description\": \"\"\n      }\n    },\n    {\n      \"column\": \"comment_cleaned\",\n      \"properties\": {\n        \"dtype\": \"string\",\n        \"num_unique_values\": 65717,\n        \"samples\": [\n          \"\\u062f\\u0631 \\u0633\\u0641\\u0627\\u0631\\u0634 \\u062f\\u0648 \\u0639\\u062f\\u062f \\u0645\\u0627\\u0633\\u062a \\u06a9\\u0648\\u0632\\u0647\\u0627\\u06cc \\u062b\\u0628\\u062a\\u0634\\u062f\\u0647 \\u0627\\u0645\\u0627 \\u06cc\\u06a9 \\u0639\\u062f\\u062f \\u0627\\u0631\\u0633\\u0627\\u0644 \\u0634\\u062f\",\n          \"\\u0628\\u0627\\u0627\\u06cc\\u0646\\u06a9\\u0647 \\u0627\\u0648\\u0644\\u06cc\\u0646 \\u0628\\u0627\\u0631 \\u0628\\u0648\\u062f \\u062e\\u0631\\u06cc\\u062f \\u06a9\\u0631\\u062f\\u0645 \\u06a9\\u06cc\\u0641\\u062a \\u0648 \\u0642\\u06cc\\u0645\\u062a\\u0634 \\u062e\\u0648\\u0628 \\u0628\\u0648\\u062f \\u0627\\u0645\\u06cc\\u062f\\u0648\\u0627\\u0631\\u0645 \\u0647\\u0645\\u06cc\\u0646\\u0637\\u0648\\u0631\\u06cc \\u0628\\u0645\\u0648\\u0646\\u0647\"\n        ],\n        \"semantic_type\": \"\",\n        \"description\": \"\"\n      }\n    }\n  ]\n}",
              "type": "dataframe",
              "variable_name": "df"
            },
            "text/html": [
              "\n",
              "  <div id=\"df-99a234dc-5e98-4762-b710-739009514f19\" class=\"colab-df-container\">\n",
              "    <div>\n",
              "<style scoped>\n",
              "    .dataframe tbody tr th:only-of-type {\n",
              "        vertical-align: middle;\n",
              "    }\n",
              "\n",
              "    .dataframe tbody tr th {\n",
              "        vertical-align: top;\n",
              "    }\n",
              "\n",
              "    .dataframe thead th {\n",
              "        text-align: right;\n",
              "    }\n",
              "</style>\n",
              "<table border=\"1\" class=\"dataframe\">\n",
              "  <thead>\n",
              "    <tr style=\"text-align: right;\">\n",
              "      <th></th>\n",
              "      <th>comment</th>\n",
              "      <th>label</th>\n",
              "      <th>comment_length</th>\n",
              "      <th>comment_cleaned</th>\n",
              "    </tr>\n",
              "  </thead>\n",
              "  <tbody>\n",
              "    <tr>\n",
              "      <th>0</th>\n",
              "      <td>واقعا حیف وقت که بنویسم سرویس دهیتون شده افتضاح</td>\n",
              "      <td>0</td>\n",
              "      <td>47</td>\n",
              "      <td>واقعا حیف وقت که بنویسم سرویس دهیتون شده افتضاح</td>\n",
              "    </tr>\n",
              "    <tr>\n",
              "      <th>1</th>\n",
              "      <td>قرار بود ۱ ساعته برسه ولی نیم ساعت زودتر از مو...</td>\n",
              "      <td>1</td>\n",
              "      <td>132</td>\n",
              "      <td>قرار بود  ساعته برسه ولی نیم ساعت زودتر از موق...</td>\n",
              "    </tr>\n",
              "    <tr>\n",
              "      <th>2</th>\n",
              "      <td>قیمت این مدل اصلا با کیفیتش سازگاری نداره، فقط...</td>\n",
              "      <td>0</td>\n",
              "      <td>89</td>\n",
              "      <td>قیمت این مدل اصلا با کیفیتش سازگاری نداره فقط ...</td>\n",
              "    </tr>\n",
              "    <tr>\n",
              "      <th>3</th>\n",
              "      <td>عالی بود همه چه درست و به اندازه و کیفیت خوب، ...</td>\n",
              "      <td>1</td>\n",
              "      <td>99</td>\n",
              "      <td>عالی بود همه چه درست و به اندازه و کیفیت خوب ا...</td>\n",
              "    </tr>\n",
              "    <tr>\n",
              "      <th>4</th>\n",
              "      <td>شیرینی وانیلی فقط یک مدل بود.</td>\n",
              "      <td>1</td>\n",
              "      <td>29</td>\n",
              "      <td>شیرینی وانیلی فقط یک مدل بود</td>\n",
              "    </tr>\n",
              "  </tbody>\n",
              "</table>\n",
              "</div>\n",
              "    <div class=\"colab-df-buttons\">\n",
              "\n",
              "  <div class=\"colab-df-container\">\n",
              "    <button class=\"colab-df-convert\" onclick=\"convertToInteractive('df-99a234dc-5e98-4762-b710-739009514f19')\"\n",
              "            title=\"Convert this dataframe to an interactive table.\"\n",
              "            style=\"display:none;\">\n",
              "\n",
              "  <svg xmlns=\"http://www.w3.org/2000/svg\" height=\"24px\" viewBox=\"0 -960 960 960\">\n",
              "    <path d=\"M120-120v-720h720v720H120Zm60-500h600v-160H180v160Zm220 220h160v-160H400v160Zm0 220h160v-160H400v160ZM180-400h160v-160H180v160Zm440 0h160v-160H620v160ZM180-180h160v-160H180v160Zm440 0h160v-160H620v160Z\"/>\n",
              "  </svg>\n",
              "    </button>\n",
              "\n",
              "  <style>\n",
              "    .colab-df-container {\n",
              "      display:flex;\n",
              "      gap: 12px;\n",
              "    }\n",
              "\n",
              "    .colab-df-convert {\n",
              "      background-color: #E8F0FE;\n",
              "      border: none;\n",
              "      border-radius: 50%;\n",
              "      cursor: pointer;\n",
              "      display: none;\n",
              "      fill: #1967D2;\n",
              "      height: 32px;\n",
              "      padding: 0 0 0 0;\n",
              "      width: 32px;\n",
              "    }\n",
              "\n",
              "    .colab-df-convert:hover {\n",
              "      background-color: #E2EBFA;\n",
              "      box-shadow: 0px 1px 2px rgba(60, 64, 67, 0.3), 0px 1px 3px 1px rgba(60, 64, 67, 0.15);\n",
              "      fill: #174EA6;\n",
              "    }\n",
              "\n",
              "    .colab-df-buttons div {\n",
              "      margin-bottom: 4px;\n",
              "    }\n",
              "\n",
              "    [theme=dark] .colab-df-convert {\n",
              "      background-color: #3B4455;\n",
              "      fill: #D2E3FC;\n",
              "    }\n",
              "\n",
              "    [theme=dark] .colab-df-convert:hover {\n",
              "      background-color: #434B5C;\n",
              "      box-shadow: 0px 1px 3px 1px rgba(0, 0, 0, 0.15);\n",
              "      filter: drop-shadow(0px 1px 2px rgba(0, 0, 0, 0.3));\n",
              "      fill: #FFFFFF;\n",
              "    }\n",
              "  </style>\n",
              "\n",
              "    <script>\n",
              "      const buttonEl =\n",
              "        document.querySelector('#df-99a234dc-5e98-4762-b710-739009514f19 button.colab-df-convert');\n",
              "      buttonEl.style.display =\n",
              "        google.colab.kernel.accessAllowed ? 'block' : 'none';\n",
              "\n",
              "      async function convertToInteractive(key) {\n",
              "        const element = document.querySelector('#df-99a234dc-5e98-4762-b710-739009514f19');\n",
              "        const dataTable =\n",
              "          await google.colab.kernel.invokeFunction('convertToInteractive',\n",
              "                                                    [key], {});\n",
              "        if (!dataTable) return;\n",
              "\n",
              "        const docLinkHtml = 'Like what you see? Visit the ' +\n",
              "          '<a target=\"_blank\" href=https://colab.research.google.com/notebooks/data_table.ipynb>data table notebook</a>'\n",
              "          + ' to learn more about interactive tables.';\n",
              "        element.innerHTML = '';\n",
              "        dataTable['output_type'] = 'display_data';\n",
              "        await google.colab.output.renderOutput(dataTable, element);\n",
              "        const docLink = document.createElement('div');\n",
              "        docLink.innerHTML = docLinkHtml;\n",
              "        element.appendChild(docLink);\n",
              "      }\n",
              "    </script>\n",
              "  </div>\n",
              "\n",
              "\n",
              "    <div id=\"df-6c73c02e-0b40-4f72-a119-e5d00ce6b92c\">\n",
              "      <button class=\"colab-df-quickchart\" onclick=\"quickchart('df-6c73c02e-0b40-4f72-a119-e5d00ce6b92c')\"\n",
              "                title=\"Suggest charts\"\n",
              "                style=\"display:none;\">\n",
              "\n",
              "<svg xmlns=\"http://www.w3.org/2000/svg\" height=\"24px\"viewBox=\"0 0 24 24\"\n",
              "     width=\"24px\">\n",
              "    <g>\n",
              "        <path d=\"M19 3H5c-1.1 0-2 .9-2 2v14c0 1.1.9 2 2 2h14c1.1 0 2-.9 2-2V5c0-1.1-.9-2-2-2zM9 17H7v-7h2v7zm4 0h-2V7h2v10zm4 0h-2v-4h2v4z\"/>\n",
              "    </g>\n",
              "</svg>\n",
              "      </button>\n",
              "\n",
              "<style>\n",
              "  .colab-df-quickchart {\n",
              "      --bg-color: #E8F0FE;\n",
              "      --fill-color: #1967D2;\n",
              "      --hover-bg-color: #E2EBFA;\n",
              "      --hover-fill-color: #174EA6;\n",
              "      --disabled-fill-color: #AAA;\n",
              "      --disabled-bg-color: #DDD;\n",
              "  }\n",
              "\n",
              "  [theme=dark] .colab-df-quickchart {\n",
              "      --bg-color: #3B4455;\n",
              "      --fill-color: #D2E3FC;\n",
              "      --hover-bg-color: #434B5C;\n",
              "      --hover-fill-color: #FFFFFF;\n",
              "      --disabled-bg-color: #3B4455;\n",
              "      --disabled-fill-color: #666;\n",
              "  }\n",
              "\n",
              "  .colab-df-quickchart {\n",
              "    background-color: var(--bg-color);\n",
              "    border: none;\n",
              "    border-radius: 50%;\n",
              "    cursor: pointer;\n",
              "    display: none;\n",
              "    fill: var(--fill-color);\n",
              "    height: 32px;\n",
              "    padding: 0;\n",
              "    width: 32px;\n",
              "  }\n",
              "\n",
              "  .colab-df-quickchart:hover {\n",
              "    background-color: var(--hover-bg-color);\n",
              "    box-shadow: 0 1px 2px rgba(60, 64, 67, 0.3), 0 1px 3px 1px rgba(60, 64, 67, 0.15);\n",
              "    fill: var(--button-hover-fill-color);\n",
              "  }\n",
              "\n",
              "  .colab-df-quickchart-complete:disabled,\n",
              "  .colab-df-quickchart-complete:disabled:hover {\n",
              "    background-color: var(--disabled-bg-color);\n",
              "    fill: var(--disabled-fill-color);\n",
              "    box-shadow: none;\n",
              "  }\n",
              "\n",
              "  .colab-df-spinner {\n",
              "    border: 2px solid var(--fill-color);\n",
              "    border-color: transparent;\n",
              "    border-bottom-color: var(--fill-color);\n",
              "    animation:\n",
              "      spin 1s steps(1) infinite;\n",
              "  }\n",
              "\n",
              "  @keyframes spin {\n",
              "    0% {\n",
              "      border-color: transparent;\n",
              "      border-bottom-color: var(--fill-color);\n",
              "      border-left-color: var(--fill-color);\n",
              "    }\n",
              "    20% {\n",
              "      border-color: transparent;\n",
              "      border-left-color: var(--fill-color);\n",
              "      border-top-color: var(--fill-color);\n",
              "    }\n",
              "    30% {\n",
              "      border-color: transparent;\n",
              "      border-left-color: var(--fill-color);\n",
              "      border-top-color: var(--fill-color);\n",
              "      border-right-color: var(--fill-color);\n",
              "    }\n",
              "    40% {\n",
              "      border-color: transparent;\n",
              "      border-right-color: var(--fill-color);\n",
              "      border-top-color: var(--fill-color);\n",
              "    }\n",
              "    60% {\n",
              "      border-color: transparent;\n",
              "      border-right-color: var(--fill-color);\n",
              "    }\n",
              "    80% {\n",
              "      border-color: transparent;\n",
              "      border-right-color: var(--fill-color);\n",
              "      border-bottom-color: var(--fill-color);\n",
              "    }\n",
              "    90% {\n",
              "      border-color: transparent;\n",
              "      border-bottom-color: var(--fill-color);\n",
              "    }\n",
              "  }\n",
              "</style>\n",
              "\n",
              "      <script>\n",
              "        async function quickchart(key) {\n",
              "          const quickchartButtonEl =\n",
              "            document.querySelector('#' + key + ' button');\n",
              "          quickchartButtonEl.disabled = true;  // To prevent multiple clicks.\n",
              "          quickchartButtonEl.classList.add('colab-df-spinner');\n",
              "          try {\n",
              "            const charts = await google.colab.kernel.invokeFunction(\n",
              "                'suggestCharts', [key], {});\n",
              "          } catch (error) {\n",
              "            console.error('Error during call to suggestCharts:', error);\n",
              "          }\n",
              "          quickchartButtonEl.classList.remove('colab-df-spinner');\n",
              "          quickchartButtonEl.classList.add('colab-df-quickchart-complete');\n",
              "        }\n",
              "        (() => {\n",
              "          let quickchartButtonEl =\n",
              "            document.querySelector('#df-6c73c02e-0b40-4f72-a119-e5d00ce6b92c button');\n",
              "          quickchartButtonEl.style.display =\n",
              "            google.colab.kernel.accessAllowed ? 'block' : 'none';\n",
              "        })();\n",
              "      </script>\n",
              "    </div>\n",
              "    </div>\n",
              "  </div>\n"
            ],
            "text/plain": [
              "                                             comment  label  comment_length  \\\n",
              "0    واقعا حیف وقت که بنویسم سرویس دهیتون شده افتضاح      0              47   \n",
              "1  قرار بود ۱ ساعته برسه ولی نیم ساعت زودتر از مو...      1             132   \n",
              "2  قیمت این مدل اصلا با کیفیتش سازگاری نداره، فقط...      0              89   \n",
              "3  عالی بود همه چه درست و به اندازه و کیفیت خوب، ...      1              99   \n",
              "4                      شیرینی وانیلی فقط یک مدل بود.      1              29   \n",
              "\n",
              "                                     comment_cleaned  \n",
              "0    واقعا حیف وقت که بنویسم سرویس دهیتون شده افتضاح  \n",
              "1  قرار بود  ساعته برسه ولی نیم ساعت زودتر از موق...  \n",
              "2  قیمت این مدل اصلا با کیفیتش سازگاری نداره فقط ...  \n",
              "3  عالی بود همه چه درست و به اندازه و کیفیت خوب ا...  \n",
              "4                       شیرینی وانیلی فقط یک مدل بود  "
            ]
          },
          "execution_count": 13,
          "metadata": {},
          "output_type": "execute_result"
        }
      ],
      "source": [
        "df = pd.read_csv(\"/content/cleaned_snappfood copy.csv\")\n",
        "df.head()"
      ]
    },
    {
      "cell_type": "code",
      "execution_count": 14,
      "id": "1602bcf6",
      "metadata": {
        "colab": {
          "base_uri": "https://localhost:8080/",
          "height": 406
        },
        "id": "1602bcf6",
        "outputId": "f75bf850-b43a-4479-95c5-a09e0272798d"
      },
      "outputs": [
        {
          "name": "stdout",
          "output_type": "stream",
          "text": [
            "<class 'pandas.core.frame.DataFrame'>\n",
            "RangeIndex: 65973 entries, 0 to 65972\n",
            "Data columns (total 4 columns):\n",
            " #   Column           Non-Null Count  Dtype \n",
            "---  ------           --------------  ----- \n",
            " 0   comment          65973 non-null  object\n",
            " 1   label            65973 non-null  int64 \n",
            " 2   comment_length   65973 non-null  int64 \n",
            " 3   comment_cleaned  65973 non-null  object\n",
            "dtypes: int64(2), object(2)\n",
            "memory usage: 2.0+ MB\n"
          ]
        },
        {
          "data": {
            "text/html": [
              "<div>\n",
              "<style scoped>\n",
              "    .dataframe tbody tr th:only-of-type {\n",
              "        vertical-align: middle;\n",
              "    }\n",
              "\n",
              "    .dataframe tbody tr th {\n",
              "        vertical-align: top;\n",
              "    }\n",
              "\n",
              "    .dataframe thead th {\n",
              "        text-align: right;\n",
              "    }\n",
              "</style>\n",
              "<table border=\"1\" class=\"dataframe\">\n",
              "  <thead>\n",
              "    <tr style=\"text-align: right;\">\n",
              "      <th></th>\n",
              "      <th>0</th>\n",
              "    </tr>\n",
              "  </thead>\n",
              "  <tbody>\n",
              "    <tr>\n",
              "      <th>comment</th>\n",
              "      <td>65973</td>\n",
              "    </tr>\n",
              "    <tr>\n",
              "      <th>label</th>\n",
              "      <td>65973</td>\n",
              "    </tr>\n",
              "    <tr>\n",
              "      <th>comment_length</th>\n",
              "      <td>65973</td>\n",
              "    </tr>\n",
              "    <tr>\n",
              "      <th>comment_cleaned</th>\n",
              "      <td>65973</td>\n",
              "    </tr>\n",
              "  </tbody>\n",
              "</table>\n",
              "</div><br><label><b>dtype:</b> int64</label>"
            ],
            "text/plain": [
              "comment            65973\n",
              "label              65973\n",
              "comment_length     65973\n",
              "comment_cleaned    65973\n",
              "dtype: int64"
            ]
          },
          "execution_count": 14,
          "metadata": {},
          "output_type": "execute_result"
        }
      ],
      "source": [
        "df.info()\n",
        "df.isnull().count()"
      ]
    },
    {
      "cell_type": "code",
      "execution_count": 15,
      "id": "deb85b43",
      "metadata": {
        "colab": {
          "base_uri": "https://localhost:8080/"
        },
        "id": "deb85b43",
        "outputId": "5ea6495b-057d-4018-fa5c-1393f66ccfc7"
      },
      "outputs": [
        {
          "data": {
            "text/plain": [
              "Index(['comment', 'label', 'comment_length', 'comment_cleaned'], dtype='object')"
            ]
          },
          "execution_count": 15,
          "metadata": {},
          "output_type": "execute_result"
        }
      ],
      "source": [
        "df.shape\n",
        "df.columns"
      ]
    },
    {
      "cell_type": "code",
      "execution_count": 16,
      "id": "91b87d13",
      "metadata": {
        "id": "91b87d13"
      },
      "outputs": [],
      "source": [
        "df = df[['comment', 'label']]\n",
        "df = df.sample(frac=1, random_state=42).reset_index(drop=True)"
      ]
    },
    {
      "cell_type": "code",
      "execution_count": 17,
      "id": "5cd7edce",
      "metadata": {
        "id": "5cd7edce"
      },
      "outputs": [],
      "source": [
        "tokenizer = Tokenizer()\n",
        "\n",
        "def clean_text(text):\n",
        "    text = normalize_persian_text(text)\n",
        "    tokens = tokenizer.tokenize_words(text)\n",
        "    return ' '.join(tokens)\n"
      ]
    },
    {
      "cell_type": "code",
      "execution_count": 20,
      "id": "2b951137",
      "metadata": {
        "colab": {
          "base_uri": "https://localhost:8080/",
          "height": 711
        },
        "id": "2b951137",
        "outputId": "b08a81c1-47e5-443c-dd57-1eedf53739db"
      },
      "outputs": [
        {
          "data": {
            "text/html": [
              "<div>\n",
              "<style scoped>\n",
              "    .dataframe tbody tr th:only-of-type {\n",
              "        vertical-align: middle;\n",
              "    }\n",
              "\n",
              "    .dataframe tbody tr th {\n",
              "        vertical-align: top;\n",
              "    }\n",
              "\n",
              "    .dataframe thead th {\n",
              "        text-align: right;\n",
              "    }\n",
              "</style>\n",
              "<table border=\"1\" class=\"dataframe\">\n",
              "  <thead>\n",
              "    <tr style=\"text-align: right;\">\n",
              "      <th></th>\n",
              "      <th>comment</th>\n",
              "    </tr>\n",
              "  </thead>\n",
              "  <tbody>\n",
              "    <tr>\n",
              "      <th>13038</th>\n",
              "      <td>بوفالو برگر خیلی تند کل کیفیت عالی خواهشا انقد...</td>\n",
              "    </tr>\n",
              "    <tr>\n",
              "      <th>24643</th>\n",
              "      <td>محتوای سالاد تازه نبود ارسال موقع</td>\n",
              "    </tr>\n",
              "    <tr>\n",
              "      <th>52007</th>\n",
              "      <td>کیفیت هات داگ خوب نبود اب انار خیلی تازه نبود تلخ</td>\n",
              "    </tr>\n",
              "    <tr>\n",
              "      <th>54926</th>\n",
              "      <td>یکم طعم مزه</td>\n",
              "    </tr>\n",
              "    <tr>\n",
              "      <th>44869</th>\n",
              "      <td>قیمت بالا کیفیت پایین غذا خصوصا برنج نامناسب ب...</td>\n",
              "    </tr>\n",
              "    <tr>\n",
              "      <th>55176</th>\n",
              "      <td>عالی بودش عالی مخصوصا رفتار پرسنل</td>\n",
              "    </tr>\n",
              "    <tr>\n",
              "      <th>1893</th>\n",
              "      <td>رستوران آدرس معمول رو آدرس سفارش اشتباه باعث ت...</td>\n",
              "    </tr>\n",
              "    <tr>\n",
              "      <th>29714</th>\n",
              "      <td>سلام مشتری ثابتون هستم همیشه تلفنی خرید میکردم...</td>\n",
              "    </tr>\n",
              "    <tr>\n",
              "      <th>15586</th>\n",
              "      <td>امتیاز اسنپ اکسپرس صفر دو ساعت طول کشید تحویل بدن</td>\n",
              "    </tr>\n",
              "    <tr>\n",
              "      <th>43435</th>\n",
              "      <td>نسبت قیمت ارزش نداره خوشمزه چیپس پنیر نداشت</td>\n",
              "    </tr>\n",
              "    <tr>\n",
              "      <th>53238</th>\n",
              "      <td>سلام خدمت رستوران رگا واقعا باید تشکر ازتون غذ...</td>\n",
              "    </tr>\n",
              "    <tr>\n",
              "      <th>38619</th>\n",
              "      <td>سری افتصاح</td>\n",
              "    </tr>\n",
              "    <tr>\n",
              "      <th>60973</th>\n",
              "      <td>سلام تاریخ کالا برایم خیلی مهم رعایت تاریخ تول...</td>\n",
              "    </tr>\n",
              "    <tr>\n",
              "      <th>21923</th>\n",
              "      <td>واقعا مخلفات درون پیتزا موارد نوشتهشده اصلا مط...</td>\n",
              "    </tr>\n",
              "    <tr>\n",
              "      <th>31148</th>\n",
              "      <td>خیلی خیلی خیلی عالی فیلهها کامل وبزرگ بودن خوب...</td>\n",
              "    </tr>\n",
              "    <tr>\n",
              "      <th>48031</th>\n",
              "      <td>غذا یخ یخ وقتی رسید فاصله زیادی نبود</td>\n",
              "    </tr>\n",
              "    <tr>\n",
              "      <th>6777</th>\n",
              "      <td>غذا عالی قاشق نداشت</td>\n",
              "    </tr>\n",
              "    <tr>\n",
              "      <th>35865</th>\n",
              "      <td>غذای پیتزا سرد تحویل</td>\n",
              "    </tr>\n",
              "    <tr>\n",
              "      <th>35954</th>\n",
              "      <td>غذا خیلی سرد</td>\n",
              "    </tr>\n",
              "    <tr>\n",
              "      <th>25300</th>\n",
              "      <td>سفارش بعد یک ساعت بیست دقیقه دستم رسید پیک جوا...</td>\n",
              "    </tr>\n",
              "  </tbody>\n",
              "</table>\n",
              "</div><br><label><b>dtype:</b> object</label>"
            ],
            "text/plain": [
              "13038    بوفالو برگر خیلی تند کل کیفیت عالی خواهشا انقد...\n",
              "24643                    محتوای سالاد تازه نبود ارسال موقع\n",
              "52007    کیفیت هات داگ خوب نبود اب انار خیلی تازه نبود تلخ\n",
              "54926                                          یکم طعم مزه\n",
              "44869    قیمت بالا کیفیت پایین غذا خصوصا برنج نامناسب ب...\n",
              "55176                    عالی بودش عالی مخصوصا رفتار پرسنل\n",
              "1893     رستوران آدرس معمول رو آدرس سفارش اشتباه باعث ت...\n",
              "29714    سلام مشتری ثابتون هستم همیشه تلفنی خرید میکردم...\n",
              "15586    امتیاز اسنپ اکسپرس صفر دو ساعت طول کشید تحویل بدن\n",
              "43435          نسبت قیمت ارزش نداره خوشمزه چیپس پنیر نداشت\n",
              "53238    سلام خدمت رستوران رگا واقعا باید تشکر ازتون غذ...\n",
              "38619                                           سری افتصاح\n",
              "60973    سلام تاریخ کالا برایم خیلی مهم رعایت تاریخ تول...\n",
              "21923    واقعا مخلفات درون پیتزا موارد نوشتهشده اصلا مط...\n",
              "31148    خیلی خیلی خیلی عالی فیلهها کامل وبزرگ بودن خوب...\n",
              "48031                 غذا یخ یخ وقتی رسید فاصله زیادی نبود\n",
              "6777                                   غذا عالی قاشق نداشت\n",
              "35865                                 غذای پیتزا سرد تحویل\n",
              "35954                                         غذا خیلی سرد\n",
              "25300    سفارش بعد یک ساعت بیست دقیقه دستم رسید پیک جوا...\n",
              "Name: comment, dtype: object"
            ]
          },
          "execution_count": 20,
          "metadata": {},
          "output_type": "execute_result"
        }
      ],
      "source": [
        "df['comment'] = df['comment'].apply(clean_text)\n",
        "\n",
        "df['comment'].sample(20)"
      ]
    },
    {
      "cell_type": "markdown",
      "id": "9ca5c18e",
      "metadata": {
        "id": "9ca5c18e"
      },
      "source": [
        "#### Split into train / val / test"
      ]
    },
    {
      "cell_type": "code",
      "execution_count": 21,
      "id": "4c5f000b",
      "metadata": {
        "id": "4c5f000b"
      },
      "outputs": [],
      "source": [
        "texts = df['comment'].tolist()\n",
        "labels = df['label'].values"
      ]
    },
    {
      "cell_type": "code",
      "execution_count": 22,
      "id": "be1e3bc1",
      "metadata": {
        "id": "be1e3bc1"
      },
      "outputs": [],
      "source": [
        "train_texts, temp_texts, train_labels, temp_labels = train_test_split(\n",
        "    texts, labels, test_size=0.3, random_state=42\n",
        ")\n",
        "\n",
        "val_texts, test_texts, val_labels, test_labels = train_test_split(\n",
        "    temp_texts, temp_labels, test_size=0.5, random_state=42\n",
        ")"
      ]
    },
    {
      "cell_type": "markdown",
      "id": "8b417688",
      "metadata": {
        "id": "8b417688"
      },
      "source": [
        "70% → train\n",
        "\n",
        "15% → validation\n",
        "\n",
        "15% → test"
      ]
    },
    {
      "cell_type": "code",
      "execution_count": 23,
      "id": "6348556c",
      "metadata": {
        "colab": {
          "base_uri": "https://localhost:8080/"
        },
        "id": "6348556c",
        "outputId": "c0fe8cf5-7e41-4ba6-f77a-5ac9207f0c5a"
      },
      "outputs": [
        {
          "name": "stdout",
          "output_type": "stream",
          "text": [
            "Train shape: 46181, Validation shape: 9896, Test shape: 9896\n",
            "\n",
            "Data loaded and processed successfully.\n",
            "Sample of cleaned text:\n",
            " (سیبزمینی روغن مونده درست بو میداد قابل خوردن شکل شمایلش خوب نبود) \n",
            " label: 0\n"
          ]
        }
      ],
      "source": [
        "print(f\"Train shape: {len(train_texts)}, Validation shape: {len(val_texts)}, Test shape: {len(test_texts)}\\n\")\n",
        "\n",
        "print(\"Data loaded and processed successfully.\")\n",
        "print(f\"Sample of cleaned text:\\n ({train_texts[0]}) \\n label: {train_labels[0]}\")"
      ]
    },
    {
      "cell_type": "markdown",
      "id": "2a43c559",
      "metadata": {
        "id": "2a43c559"
      },
      "source": [
        "### 2. Prepare Text and Tokenize"
      ]
    },
    {
      "cell_type": "code",
      "execution_count": 24,
      "id": "5188d8d8",
      "metadata": {
        "colab": {
          "base_uri": "https://localhost:8080/",
          "height": 272,
          "referenced_widgets": [
            "1ed411f0ca104534979a402a497e10f8",
            "f9d393719385415ba339fecba82609e5",
            "c4303747ff9f455590f4c2abbfbdb2dd",
            "d7665a4a450c4435bd8f6085c44e3a69",
            "095d885d2cef4cddac013478695ff55c",
            "cbeb65ae38c44a0289a6bf3b10edc179",
            "d7527c937e4b453bac1606ea38c1f8a7",
            "7031c8a0171d414dbd71875daac5b285",
            "22490c241515487289781ea8776a2ba1",
            "0f4b3eb03cb94ad29075644d616cd56e",
            "2c7dba39cce649ccbb5da72dfc789d1f",
            "90e0bbf945c7415a8700351b9561acdb",
            "9da6890e3c8c4dd0afa3c5bdde5aa1fa",
            "1d426d311eca4e73a7316477a0c9ced3",
            "21cdc4f823e04c0785969c4a371d6288",
            "6d9d6e9114c44b02a67b66f8129036e1",
            "04d53ca4b36a4c01bb49f766da7a411b",
            "43d2b376b6b746b592ff02d00f9b8090",
            "73023989b60341468f5ebe6afe5b8128",
            "f129484b16434ec195d11b5844149a1e",
            "d7ed4b54108f4d92aa650bb9e85a5e4d",
            "00308f06931045fb8a890cf4b89a3f4d",
            "b5a20842890045bc99a53d075f702f63",
            "b949c65a09104d1a96ac7c728cff3ed3",
            "2376d9d55a524088a2a055430f2346c5",
            "9ae60410b4174b93a3f8868200cd59ac",
            "89cfb360673248ecad657bf65d576259",
            "f9adcc2ca3364aab96e308c3173b0c39",
            "e8778889f4b94e49a27abce635cc5d45",
            "2e0e1a6730634d62932a1bc41c342a2d",
            "6fd3bbb9fc614f6e9e2558a1d92bf267",
            "27465c1907aa41f09892cd01dbd32fdb",
            "07eea3ed5b254c209f18b0f0f1617d29",
            "9e6b99517fbb42c9a48e7c35dc3bea2e",
            "53eac89dec9243b6b0b8c3bd64fa037b",
            "2ab08e86a66c4f5abd092a5d24d3f97a",
            "20936270e63a4692a1543a5252702664",
            "e479115ead1d4225a56dd6976a4d6d3d",
            "138cdbb8355f44feae5372ac8731b715",
            "17071094716d40caadd9b97274ae6c4f",
            "bd95db3712f14204b7ff3b53c08ec225",
            "dda7dcd782644b87ab607ead502b32d3",
            "35a4c3ca873c4b3a9e2b787d7e135ab7",
            "139bed7c271f4f78a09f7e8fddfdfaaf"
          ]
        },
        "id": "5188d8d8",
        "outputId": "51b3e604-18c4-49fb-8a5d-f7304108ef89"
      },
      "outputs": [
        {
          "name": "stderr",
          "output_type": "stream",
          "text": [
            "/usr/local/lib/python3.11/dist-packages/huggingface_hub/utils/_auth.py:94: UserWarning: \n",
            "The secret `HF_TOKEN` does not exist in your Colab secrets.\n",
            "To authenticate with the Hugging Face Hub, create a token in your settings tab (https://huggingface.co/settings/tokens), set it as secret in your Google Colab and restart your session.\n",
            "You will be able to reuse this secret in all of your notebooks.\n",
            "Please note that authentication is recommended but still optional to access public models or datasets.\n",
            "  warnings.warn(\n"
          ]
        },
        {
          "data": {
            "application/vnd.jupyter.widget-view+json": {
              "model_id": "1ed411f0ca104534979a402a497e10f8",
              "version_major": 2,
              "version_minor": 0
            },
            "text/plain": [
              "tokenizer_config.json:   0%|          | 0.00/62.0 [00:00<?, ?B/s]"
            ]
          },
          "metadata": {},
          "output_type": "display_data"
        },
        {
          "data": {
            "application/vnd.jupyter.widget-view+json": {
              "model_id": "90e0bbf945c7415a8700351b9561acdb",
              "version_major": 2,
              "version_minor": 0
            },
            "text/plain": [
              "config.json:   0%|          | 0.00/621 [00:00<?, ?B/s]"
            ]
          },
          "metadata": {},
          "output_type": "display_data"
        },
        {
          "data": {
            "application/vnd.jupyter.widget-view+json": {
              "model_id": "b5a20842890045bc99a53d075f702f63",
              "version_major": 2,
              "version_minor": 0
            },
            "text/plain": [
              "vocab.txt: 0.00B [00:00, ?B/s]"
            ]
          },
          "metadata": {},
          "output_type": "display_data"
        },
        {
          "data": {
            "application/vnd.jupyter.widget-view+json": {
              "model_id": "9e6b99517fbb42c9a48e7c35dc3bea2e",
              "version_major": 2,
              "version_minor": 0
            },
            "text/plain": [
              "special_tokens_map.json:   0%|          | 0.00/112 [00:00<?, ?B/s]"
            ]
          },
          "metadata": {},
          "output_type": "display_data"
        }
      ],
      "source": [
        "tokenizer = AutoTokenizer.from_pretrained(\"HooshvareLab/bert-fa-base-uncased-sentiment-snappfood\")"
      ]
    },
    {
      "cell_type": "code",
      "execution_count": 25,
      "id": "bcc590ae",
      "metadata": {
        "id": "bcc590ae"
      },
      "outputs": [],
      "source": [
        "def encode_texts(texts):\n",
        "    return tokenizer(list(texts), truncation=True, padding=True, max_length=128)"
      ]
    },
    {
      "cell_type": "code",
      "execution_count": 26,
      "id": "00067af6",
      "metadata": {
        "id": "00067af6"
      },
      "outputs": [],
      "source": [
        "train_encoded = encode_texts(train_texts)\n",
        "val_encoded = encode_texts(val_texts)\n",
        "test_encoded = encode_texts(test_texts)"
      ]
    },
    {
      "cell_type": "markdown",
      "id": "e168000f",
      "metadata": {
        "id": "e168000f"
      },
      "source": [
        "convert Encoding to TF DataSet"
      ]
    },
    {
      "cell_type": "code",
      "execution_count": 27,
      "id": "b454b2d6",
      "metadata": {
        "id": "b454b2d6"
      },
      "outputs": [],
      "source": [
        "def make_tf_dataset(encoding, labels, shuffle=False, BATCH_SIZE=16):\n",
        "    dataset = tf.data.Dataset.from_tensor_slices((dict(encoding), labels))\n",
        "    if shuffle:\n",
        "        dataset = dataset.shuffle(1000)\n",
        "    return dataset.batch(BATCH_SIZE).prefetch(tf.data.AUTOTUNE)"
      ]
    },
    {
      "cell_type": "code",
      "execution_count": 28,
      "id": "7ed70fa7",
      "metadata": {
        "id": "7ed70fa7"
      },
      "outputs": [],
      "source": [
        "train_dataset = make_tf_dataset(train_encoded, train_labels, shuffle=True)\n",
        "val_dataset = make_tf_dataset(val_encoded, val_labels)\n",
        "test_dataset = make_tf_dataset(test_encoded, test_labels)"
      ]
    },
    {
      "cell_type": "markdown",
      "id": "657619dd",
      "metadata": {
        "id": "657619dd"
      },
      "source": [
        "### 3. Laod the Model_Compile the Model_Train the Model"
      ]
    },
    {
      "cell_type": "code",
      "execution_count": 29,
      "id": "45837dbc",
      "metadata": {
        "colab": {
          "base_uri": "https://localhost:8080/",
          "height": 158,
          "referenced_widgets": [
            "7b11bf01645c4cab893a99098657806a",
            "2963c9d20c2d469990f2156dfaa59084",
            "4e345b4da9f14da6863873fba7358713",
            "d8f6dab282804178bdcb891c145d87cd",
            "f84a1e75e9764f81a57dd5767f71595c",
            "3251bdd5bea540dba4ffc97fd2837ced",
            "ac64857d5fc0481a98431a99d02fe915",
            "a8e495f4b5064b36857bf1afdb58e202",
            "09d13f42fe324fdaa7e674c5f6e69bb7",
            "9faa4aabde95458a80173269fac96123",
            "2f94364617e14275a0f1c395bb9405e0"
          ]
        },
        "id": "45837dbc",
        "outputId": "71eba35d-1866-4f36-d5e9-ba5c03a6f773"
      },
      "outputs": [
        {
          "data": {
            "application/vnd.jupyter.widget-view+json": {
              "model_id": "7b11bf01645c4cab893a99098657806a",
              "version_major": 2,
              "version_minor": 0
            },
            "text/plain": [
              "tf_model.h5:   0%|          | 0.00/652M [00:00<?, ?B/s]"
            ]
          },
          "metadata": {},
          "output_type": "display_data"
        },
        {
          "name": "stderr",
          "output_type": "stream",
          "text": [
            "TensorFlow and JAX classes are deprecated and will be removed in Transformers v5. We recommend migrating to PyTorch classes or pinning your version of Transformers.\n",
            "All model checkpoint layers were used when initializing TFBertForSequenceClassification.\n",
            "\n",
            "All the layers of TFBertForSequenceClassification were initialized from the model checkpoint at HooshvareLab/bert-fa-base-uncased-sentiment-snappfood.\n",
            "If your task is similar to the task the model of the checkpoint was trained on, you can already use TFBertForSequenceClassification for predictions without further training.\n"
          ]
        }
      ],
      "source": [
        "model = TFAutoModelForSequenceClassification.from_pretrained(\n",
        "    \"HooshvareLab/bert-fa-base-uncased-sentiment-snappfood\",\n",
        "    num_labels=2,\n",
        "    use_safetensors=True)"
      ]
    },
    {
      "cell_type": "code",
      "execution_count": 30,
      "id": "7f5bf68a",
      "metadata": {
        "id": "7f5bf68a"
      },
      "outputs": [],
      "source": [
        "model.compile(\n",
        "    optimizer=tf.keras.optimizers.Adam(learning_rate=2e-5),\n",
        "    loss = tf.keras.losses.SparseCategoricalCrossentropy(from_logits=True),\n",
        "    metrics=[tf.keras.metrics.SparseCategoricalAccuracy()]\n",
        ")"
      ]
    },
    {
      "cell_type": "code",
      "execution_count": 31,
      "id": "6bbbb798",
      "metadata": {
        "colab": {
          "base_uri": "https://localhost:8080/"
        },
        "id": "6bbbb798",
        "outputId": "b324cc3c-d1f2-4c6f-f303-afafbd366496"
      },
      "outputs": [
        {
          "name": "stdout",
          "output_type": "stream",
          "text": [
            "Epoch 1/3\n",
            "2887/2887 [==============================] - 874s 282ms/step - loss: 0.3201 - sparse_categorical_accuracy: 0.8674 - val_loss: 0.2871 - val_sparse_categorical_accuracy: 0.8874\n",
            "Epoch 2/3\n",
            "2887/2887 [==============================] - 803s 278ms/step - loss: 0.2543 - sparse_categorical_accuracy: 0.8973 - val_loss: 0.2988 - val_sparse_categorical_accuracy: 0.8803\n",
            "Epoch 3/3\n",
            "2887/2887 [==============================] - 802s 278ms/step - loss: 0.1908 - sparse_categorical_accuracy: 0.9267 - val_loss: 0.3572 - val_sparse_categorical_accuracy: 0.8605\n"
          ]
        }
      ],
      "source": [
        "history = model.fit(\n",
        "    train_dataset,\n",
        "    validation_data=val_dataset,\n",
        "    epochs=3\n",
        ")"
      ]
    },
    {
      "cell_type": "code",
      "execution_count": 32,
      "id": "U5E3Ow-gnYyT",
      "metadata": {
        "colab": {
          "base_uri": "https://localhost:8080/",
          "height": 927
        },
        "id": "U5E3Ow-gnYyT",
        "outputId": "c92845e3-c1bf-4a31-c4e4-1a6dd51c6de6"
      },
      "outputs": [
        {
          "data": {
            "image/png": "[encoded data removed]",
            "text/plain": [
              "<Figure size 640x480 with 1 Axes>"
            ]
          },
          "metadata": {},
          "output_type": "display_data"
        },
        {
          "data": {
            "image/png": "[encoded data removed]",
            "text/plain": [
              "<Figure size 640x480 with 1 Axes>"
            ]
          },
          "metadata": {},
          "output_type": "display_data"
        }
      ],
      "source": [
        "# Accuracy\n",
        "plt.plot(history.history['sparse_categorical_accuracy'], label='Training Accuracy')\n",
        "plt.plot(history.history['val_sparse_categorical_accuracy'], label='Validation Accuracy')\n",
        "plt.title('Training vs Validation Accuracy')\n",
        "plt.xlabel('Epoch')\n",
        "plt.ylabel('Accuracy')\n",
        "plt.legend()\n",
        "plt.grid(True)\n",
        "plt.show()\n",
        "\n",
        "# Loss\n",
        "plt.plot(history.history['loss'], label='Training Loss')\n",
        "plt.plot(history.history['val_loss'], label='Validation Loss')\n",
        "plt.title('Training vs Validation Loss')\n",
        "plt.xlabel('Epoch')\n",
        "plt.ylabel('Loss')\n",
        "plt.legend()\n",
        "plt.grid(True)\n",
        "plt.show()"
      ]
    },
    {
      "cell_type": "markdown",
      "id": "78841c6f",
      "metadata": {
        "id": "78841c6f"
      },
      "source": [
        "### 4. Evaluate on TEST set"
      ]
    },
    {
      "cell_type": "code",
      "execution_count": 33,
      "id": "5860f812",
      "metadata": {
        "colab": {
          "base_uri": "https://localhost:8080/"
        },
        "id": "5860f812",
        "outputId": "cfa97fa5-7b73-4652-cfc1-9e538110e898"
      },
      "outputs": [
        {
          "name": "stdout",
          "output_type": "stream",
          "text": [
            "✅ Final Evaluation on Test Set\n",
            "619/619 [==============================] - 57s 87ms/step - loss: 0.3776 - sparse_categorical_accuracy: 0.8516\n"
          ]
        },
        {
          "data": {
            "text/plain": [
              "[0.3776339590549469, 0.8515561819076538]"
            ]
          },
          "execution_count": 33,
          "metadata": {},
          "output_type": "execute_result"
        }
      ],
      "source": [
        "print(\"✅ Final Evaluation on Test Set\")\n",
        "model.evaluate(test_dataset)"
      ]
    },
    {
      "cell_type": "markdown",
      "id": "f22d2398",
      "metadata": {
        "id": "f22d2398"
      },
      "source": [
        "### 5. Save the Fine-Tuned Model"
      ]
    },
    {
      "cell_type": "code",
      "execution_count": null,
      "id": "391ef543",
      "metadata": {
        "id": "391ef543"
      },
      "outputs": [],
      "source": []
    }
  ],
  "metadata": {
    "accelerator": "GPU",
    "colab": {
      "gpuType": "T4",
      "provenance": []
    },
    "kernelspec": {
      "display_name": "Python 3",
      "name": "python3"
    },
    "language_info": {
      "codemirror_mode": {
        "name": "ipython",
        "version": 3
      },
      "file_extension": ".py",
      "mimetype": "text/x-python",
      "name": "python",
      "nbconvert_exporter": "python",
      "pygments_lexer": "ipython3",
      "version": "3.11.13"
    },
    "widgets": {
      "application/vnd.jupyter.widget-state+json": {
        "00308f06931045fb8a890cf4b89a3f4d": {
          "model_module": "@jupyter-widgets/controls",
          "model_module_version": "1.5.0",
          "model_name": "DescriptionStyleModel",
          "state": {
            "_model_module": "@jupyter-widgets/controls",
            "_model_module_version": "1.5.0",
            "_model_name": "DescriptionStyleModel",
            "_view_count": null,
            "_view_module": "@jupyter-widgets/base",
            "_view_module_version": "1.2.0",
            "_view_name": "StyleView",
            "description_width": ""
          }
        },
        "04d53ca4b36a4c01bb49f766da7a411b": {
          "model_module": "@jupyter-widgets/base",
          "model_module_version": "1.2.0",
          "model_name": "LayoutModel",
          "state": {
            "_model_module": "@jupyter-widgets/base",
            "_model_module_version": "1.2.0",
            "_model_name": "LayoutModel",
            "_view_count": null,
            "_view_module": "@jupyter-widgets/base",
            "_view_module_version": "1.2.0",
            "_view_name": "LayoutView",
            "align_content": null,
            "align_items": null,
            "align_self": null,
            "border": null,
            "bottom": null,
            "display": null,
            "flex": null,
            "flex_flow": null,
            "grid_area": null,
            "grid_auto_columns": null,
            "grid_auto_flow": null,
            "grid_auto_rows": null,
            "grid_column": null,
            "grid_gap": null,
            "grid_row": null,
            "grid_template_areas": null,
            "grid_template_columns": null,
            "grid_template_rows": null,
            "height": null,
            "justify_content": null,
            "justify_items": null,
            "left": null,
            "margin": null,
            "max_height": null,
            "max_width": null,
            "min_height": null,
            "min_width": null,
            "object_fit": null,
            "object_position": null,
            "order": null,
            "overflow": null,
            "overflow_x": null,
            "overflow_y": null,
            "padding": null,
            "right": null,
            "top": null,
            "visibility": null,
            "width": null
          }
        },
        "07eea3ed5b254c209f18b0f0f1617d29": {
          "model_module": "@jupyter-widgets/controls",
          "model_module_version": "1.5.0",
          "model_name": "DescriptionStyleModel",
          "state": {
            "_model_module": "@jupyter-widgets/controls",
            "_model_module_version": "1.5.0",
            "_model_name": "DescriptionStyleModel",
            "_view_count": null,
            "_view_module": "@jupyter-widgets/base",
            "_view_module_version": "1.2.0",
            "_view_name": "StyleView",
            "description_width": ""
          }
        },
        "095d885d2cef4cddac013478695ff55c": {
          "model_module": "@jupyter-widgets/base",
          "model_module_version": "1.2.0",
          "model_name": "LayoutModel",
          "state": {
            "_model_module": "@jupyter-widgets/base",
            "_model_module_version": "1.2.0",
            "_model_name": "LayoutModel",
            "_view_count": null,
            "_view_module": "@jupyter-widgets/base",
            "_view_module_version": "1.2.0",
            "_view_name": "LayoutView",
            "align_content": null,
            "align_items": null,
            "align_self": null,
            "border": null,
            "bottom": null,
            "display": null,
            "flex": null,
            "flex_flow": null,
            "grid_area": null,
            "grid_auto_columns": null,
            "grid_auto_flow": null,
            "grid_auto_rows": null,
            "grid_column": null,
            "grid_gap": null,
            "grid_row": null,
            "grid_template_areas": null,
            "grid_template_columns": null,
            "grid_template_rows": null,
            "height": null,
            "justify_content": null,
            "justify_items": null,
            "left": null,
            "margin": null,
            "max_height": null,
            "max_width": null,
            "min_height": null,
            "min_width": null,
            "object_fit": null,
            "object_position": null,
            "order": null,
            "overflow": null,
            "overflow_x": null,
            "overflow_y": null,
            "padding": null,
            "right": null,
            "top": null,
            "visibility": null,
            "width": null
          }
        },
        "09d13f42fe324fdaa7e674c5f6e69bb7": {
          "model_module": "@jupyter-widgets/controls",
          "model_module_version": "1.5.0",
          "model_name": "ProgressStyleModel",
          "state": {
            "_model_module": "@jupyter-widgets/controls",
            "_model_module_version": "1.5.0",
            "_model_name": "ProgressStyleModel",
            "_view_count": null,
            "_view_module": "@jupyter-widgets/base",
            "_view_module_version": "1.2.0",
            "_view_name": "StyleView",
            "bar_color": null,
            "description_width": ""
          }
        },
        "0f4b3eb03cb94ad29075644d616cd56e": {
          "model_module": "@jupyter-widgets/base",
          "model_module_version": "1.2.0",
          "model_name": "LayoutModel",
          "state": {
            "_model_module": "@jupyter-widgets/base",
            "_model_module_version": "1.2.0",
            "_model_name": "LayoutModel",
            "_view_count": null,
            "_view_module": "@jupyter-widgets/base",
            "_view_module_version": "1.2.0",
            "_view_name": "LayoutView",
            "align_content": null,
            "align_items": null,
            "align_self": null,
            "border": null,
            "bottom": null,
            "display": null,
            "flex": null,
            "flex_flow": null,
            "grid_area": null,
            "grid_auto_columns": null,
            "grid_auto_flow": null,
            "grid_auto_rows": null,
            "grid_column": null,
            "grid_gap": null,
            "grid_row": null,
            "grid_template_areas": null,
            "grid_template_columns": null,
            "grid_template_rows": null,
            "height": null,
            "justify_content": null,
            "justify_items": null,
            "left": null,
            "margin": null,
            "max_height": null,
            "max_width": null,
            "min_height": null,
            "min_width": null,
            "object_fit": null,
            "object_position": null,
            "order": null,
            "overflow": null,
            "overflow_x": null,
            "overflow_y": null,
            "padding": null,
            "right": null,
            "top": null,
            "visibility": null,
            "width": null
          }
        },
        "138cdbb8355f44feae5372ac8731b715": {
          "model_module": "@jupyter-widgets/base",
          "model_module_version": "1.2.0",
          "model_name": "LayoutModel",
          "state": {
            "_model_module": "@jupyter-widgets/base",
            "_model_module_version": "1.2.0",
            "_model_name": "LayoutModel",
            "_view_count": null,
            "_view_module": "@jupyter-widgets/base",
            "_view_module_version": "1.2.0",
            "_view_name": "LayoutView",
            "align_content": null,
            "align_items": null,
            "align_self": null,
            "border": null,
            "bottom": null,
            "display": null,
            "flex": null,
            "flex_flow": null,
            "grid_area": null,
            "grid_auto_columns": null,
            "grid_auto_flow": null,
            "grid_auto_rows": null,
            "grid_column": null,
            "grid_gap": null,
            "grid_row": null,
            "grid_template_areas": null,
            "grid_template_columns": null,
            "grid_template_rows": null,
            "height": null,
            "justify_content": null,
            "justify_items": null,
            "left": null,
            "margin": null,
            "max_height": null,
            "max_width": null,
            "min_height": null,
            "min_width": null,
            "object_fit": null,
            "object_position": null,
            "order": null,
            "overflow": null,
            "overflow_x": null,
            "overflow_y": null,
            "padding": null,
            "right": null,
            "top": null,
            "visibility": null,
            "width": null
          }
        },
        "139bed7c271f4f78a09f7e8fddfdfaaf": {
          "model_module": "@jupyter-widgets/controls",
          "model_module_version": "1.5.0",
          "model_name": "DescriptionStyleModel",
          "state": {
            "_model_module": "@jupyter-widgets/controls",
            "_model_module_version": "1.5.0",
            "_model_name": "DescriptionStyleModel",
            "_view_count": null,
            "_view_module": "@jupyter-widgets/base",
            "_view_module_version": "1.2.0",
            "_view_name": "StyleView",
            "description_width": ""
          }
        },
        "17071094716d40caadd9b97274ae6c4f": {
          "model_module": "@jupyter-widgets/controls",
          "model_module_version": "1.5.0",
          "model_name": "DescriptionStyleModel",
          "state": {
            "_model_module": "@jupyter-widgets/controls",
            "_model_module_version": "1.5.0",
            "_model_name": "DescriptionStyleModel",
            "_view_count": null,
            "_view_module": "@jupyter-widgets/base",
            "_view_module_version": "1.2.0",
            "_view_name": "StyleView",
            "description_width": ""
          }
        },
        "1d426d311eca4e73a7316477a0c9ced3": {
          "model_module": "@jupyter-widgets/controls",
          "model_module_version": "1.5.0",
          "model_name": "FloatProgressModel",
          "state": {
            "_dom_classes": [],
            "_model_module": "@jupyter-widgets/controls",
            "_model_module_version": "1.5.0",
            "_model_name": "FloatProgressModel",
            "_view_count": null,
            "_view_module": "@jupyter-widgets/controls",
            "_view_module_version": "1.5.0",
            "_view_name": "ProgressView",
            "bar_style": "success",
            "description": "",
            "description_tooltip": null,
            "layout": "IPY_MODEL_73023989b60341468f5ebe6afe5b8128",
            "max": 621,
            "min": 0,
            "orientation": "horizontal",
            "style": "IPY_MODEL_f129484b16434ec195d11b5844149a1e",
            "value": 621
          }
        },
        "1ed411f0ca104534979a402a497e10f8": {
          "model_module": "@jupyter-widgets/controls",
          "model_module_version": "1.5.0",
          "model_name": "HBoxModel",
          "state": {
            "_dom_classes": [],
            "_model_module": "@jupyter-widgets/controls",
            "_model_module_version": "1.5.0",
            "_model_name": "HBoxModel",
            "_view_count": null,
            "_view_module": "@jupyter-widgets/controls",
            "_view_module_version": "1.5.0",
            "_view_name": "HBoxView",
            "box_style": "",
            "children": [
              "IPY_MODEL_f9d393719385415ba339fecba82609e5",
              "IPY_MODEL_c4303747ff9f455590f4c2abbfbdb2dd",
              "IPY_MODEL_d7665a4a450c4435bd8f6085c44e3a69"
            ],
            "layout": "IPY_MODEL_095d885d2cef4cddac013478695ff55c"
          }
        },
        "20936270e63a4692a1543a5252702664": {
          "model_module": "@jupyter-widgets/controls",
          "model_module_version": "1.5.0",
          "model_name": "HTMLModel",
          "state": {
            "_dom_classes": [],
            "_model_module": "@jupyter-widgets/controls",
            "_model_module_version": "1.5.0",
            "_model_name": "HTMLModel",
            "_view_count": null,
            "_view_module": "@jupyter-widgets/controls",
            "_view_module_version": "1.5.0",
            "_view_name": "HTMLView",
            "description": "",
            "description_tooltip": null,
            "layout": "IPY_MODEL_35a4c3ca873c4b3a9e2b787d7e135ab7",
            "placeholder": "​",
            "style": "IPY_MODEL_139bed7c271f4f78a09f7e8fddfdfaaf",
            "value": " 112/112 [00:00&lt;00:00, 7.71kB/s]"
          }
        },
        "21cdc4f823e04c0785969c4a371d6288": {
          "model_module": "@jupyter-widgets/controls",
          "model_module_version": "1.5.0",
          "model_name": "HTMLModel",
          "state": {
            "_dom_classes": [],
            "_model_module": "@jupyter-widgets/controls",
            "_model_module_version": "1.5.0",
            "_model_name": "HTMLModel",
            "_view_count": null,
            "_view_module": "@jupyter-widgets/controls",
            "_view_module_version": "1.5.0",
            "_view_name": "HTMLView",
            "description": "",
            "description_tooltip": null,
            "layout": "IPY_MODEL_d7ed4b54108f4d92aa650bb9e85a5e4d",
            "placeholder": "​",
            "style": "IPY_MODEL_00308f06931045fb8a890cf4b89a3f4d",
            "value": " 621/621 [00:00&lt;00:00, 37.6kB/s]"
          }
        },
        "22490c241515487289781ea8776a2ba1": {
          "model_module": "@jupyter-widgets/controls",
          "model_module_version": "1.5.0",
          "model_name": "ProgressStyleModel",
          "state": {
            "_model_module": "@jupyter-widgets/controls",
            "_model_module_version": "1.5.0",
            "_model_name": "ProgressStyleModel",
            "_view_count": null,
            "_view_module": "@jupyter-widgets/base",
            "_view_module_version": "1.2.0",
            "_view_name": "StyleView",
            "bar_color": null,
            "description_width": ""
          }
        },
        "2376d9d55a524088a2a055430f2346c5": {
          "model_module": "@jupyter-widgets/controls",
          "model_module_version": "1.5.0",
          "model_name": "FloatProgressModel",
          "state": {
            "_dom_classes": [],
            "_model_module": "@jupyter-widgets/controls",
            "_model_module_version": "1.5.0",
            "_model_name": "FloatProgressModel",
            "_view_count": null,
            "_view_module": "@jupyter-widgets/controls",
            "_view_module_version": "1.5.0",
            "_view_name": "ProgressView",
            "bar_style": "success",
            "description": "",
            "description_tooltip": null,
            "layout": "IPY_MODEL_2e0e1a6730634d62932a1bc41c342a2d",
            "max": 1,
            "min": 0,
            "orientation": "horizontal",
            "style": "IPY_MODEL_6fd3bbb9fc614f6e9e2558a1d92bf267",
            "value": 1
          }
        },
        "27465c1907aa41f09892cd01dbd32fdb": {
          "model_module": "@jupyter-widgets/base",
          "model_module_version": "1.2.0",
          "model_name": "LayoutModel",
          "state": {
            "_model_module": "@jupyter-widgets/base",
            "_model_module_version": "1.2.0",
            "_model_name": "LayoutModel",
            "_view_count": null,
            "_view_module": "@jupyter-widgets/base",
            "_view_module_version": "1.2.0",
            "_view_name": "LayoutView",
            "align_content": null,
            "align_items": null,
            "align_self": null,
            "border": null,
            "bottom": null,
            "display": null,
            "flex": null,
            "flex_flow": null,
            "grid_area": null,
            "grid_auto_columns": null,
            "grid_auto_flow": null,
            "grid_auto_rows": null,
            "grid_column": null,
            "grid_gap": null,
            "grid_row": null,
            "grid_template_areas": null,
            "grid_template_columns": null,
            "grid_template_rows": null,
            "height": null,
            "justify_content": null,
            "justify_items": null,
            "left": null,
            "margin": null,
            "max_height": null,
            "max_width": null,
            "min_height": null,
            "min_width": null,
            "object_fit": null,
            "object_position": null,
            "order": null,
            "overflow": null,
            "overflow_x": null,
            "overflow_y": null,
            "padding": null,
            "right": null,
            "top": null,
            "visibility": null,
            "width": null
          }
        },
        "2963c9d20c2d469990f2156dfaa59084": {
          "model_module": "@jupyter-widgets/controls",
          "model_module_version": "1.5.0",
          "model_name": "HTMLModel",
          "state": {
            "_dom_classes": [],
            "_model_module": "@jupyter-widgets/controls",
            "_model_module_version": "1.5.0",
            "_model_name": "HTMLModel",
            "_view_count": null,
            "_view_module": "@jupyter-widgets/controls",
            "_view_module_version": "1.5.0",
            "_view_name": "HTMLView",
            "description": "",
            "description_tooltip": null,
            "layout": "IPY_MODEL_3251bdd5bea540dba4ffc97fd2837ced",
            "placeholder": "​",
            "style": "IPY_MODEL_ac64857d5fc0481a98431a99d02fe915",
            "value": "tf_model.h5: 100%"
          }
        },
        "2ab08e86a66c4f5abd092a5d24d3f97a": {
          "model_module": "@jupyter-widgets/controls",
          "model_module_version": "1.5.0",
          "model_name": "FloatProgressModel",
          "state": {
            "_dom_classes": [],
            "_model_module": "@jupyter-widgets/controls",
            "_model_module_version": "1.5.0",
            "_model_name": "FloatProgressModel",
            "_view_count": null,
            "_view_module": "@jupyter-widgets/controls",
            "_view_module_version": "1.5.0",
            "_view_name": "ProgressView",
            "bar_style": "success",
            "description": "",
            "description_tooltip": null,
            "layout": "IPY_MODEL_bd95db3712f14204b7ff3b53c08ec225",
            "max": 112,
            "min": 0,
            "orientation": "horizontal",
            "style": "IPY_MODEL_dda7dcd782644b87ab607ead502b32d3",
            "value": 112
          }
        },
        "2c7dba39cce649ccbb5da72dfc789d1f": {
          "model_module": "@jupyter-widgets/controls",
          "model_module_version": "1.5.0",
          "model_name": "DescriptionStyleModel",
          "state": {
            "_model_module": "@jupyter-widgets/controls",
            "_model_module_version": "1.5.0",
            "_model_name": "DescriptionStyleModel",
            "_view_count": null,
            "_view_module": "@jupyter-widgets/base",
            "_view_module_version": "1.2.0",
            "_view_name": "StyleView",
            "description_width": ""
          }
        },
        "2e0e1a6730634d62932a1bc41c342a2d": {
          "model_module": "@jupyter-widgets/base",
          "model_module_version": "1.2.0",
          "model_name": "LayoutModel",
          "state": {
            "_model_module": "@jupyter-widgets/base",
            "_model_module_version": "1.2.0",
            "_model_name": "LayoutModel",
            "_view_count": null,
            "_view_module": "@jupyter-widgets/base",
            "_view_module_version": "1.2.0",
            "_view_name": "LayoutView",
            "align_content": null,
            "align_items": null,
            "align_self": null,
            "border": null,
            "bottom": null,
            "display": null,
            "flex": null,
            "flex_flow": null,
            "grid_area": null,
            "grid_auto_columns": null,
            "grid_auto_flow": null,
            "grid_auto_rows": null,
            "grid_column": null,
            "grid_gap": null,
            "grid_row": null,
            "grid_template_areas": null,
            "grid_template_columns": null,
            "grid_template_rows": null,
            "height": null,
            "justify_content": null,
            "justify_items": null,
            "left": null,
            "margin": null,
            "max_height": null,
            "max_width": null,
            "min_height": null,
            "min_width": null,
            "object_fit": null,
            "object_position": null,
            "order": null,
            "overflow": null,
            "overflow_x": null,
            "overflow_y": null,
            "padding": null,
            "right": null,
            "top": null,
            "visibility": null,
            "width": "20px"
          }
        },
        "2f94364617e14275a0f1c395bb9405e0": {
          "model_module": "@jupyter-widgets/controls",
          "model_module_version": "1.5.0",
          "model_name": "DescriptionStyleModel",
          "state": {
            "_model_module": "@jupyter-widgets/controls",
            "_model_module_version": "1.5.0",
            "_model_name": "DescriptionStyleModel",
            "_view_count": null,
            "_view_module": "@jupyter-widgets/base",
            "_view_module_version": "1.2.0",
            "_view_name": "StyleView",
            "description_width": ""
          }
        },
        "3251bdd5bea540dba4ffc97fd2837ced": {
          "model_module": "@jupyter-widgets/base",
          "model_module_version": "1.2.0",
          "model_name": "LayoutModel",
          "state": {
            "_model_module": "@jupyter-widgets/base",
            "_model_module_version": "1.2.0",
            "_model_name": "LayoutModel",
            "_view_count": null,
            "_view_module": "@jupyter-widgets/base",
            "_view_module_version": "1.2.0",
            "_view_name": "LayoutView",
            "align_content": null,
            "align_items": null,
            "align_self": null,
            "border": null,
            "bottom": null,
            "display": null,
            "flex": null,
            "flex_flow": null,
            "grid_area": null,
            "grid_auto_columns": null,
            "grid_auto_flow": null,
            "grid_auto_rows": null,
            "grid_column": null,
            "grid_gap": null,
            "grid_row": null,
            "grid_template_areas": null,
            "grid_template_columns": null,
            "grid_template_rows": null,
            "height": null,
            "justify_content": null,
            "justify_items": null,
            "left": null,
            "margin": null,
            "max_height": null,
            "max_width": null,
            "min_height": null,
            "min_width": null,
            "object_fit": null,
            "object_position": null,
            "order": null,
            "overflow": null,
            "overflow_x": null,
            "overflow_y": null,
            "padding": null,
            "right": null,
            "top": null,
            "visibility": null,
            "width": null
          }
        },
        "35a4c3ca873c4b3a9e2b787d7e135ab7": {
          "model_module": "@jupyter-widgets/base",
          "model_module_version": "1.2.0",
          "model_name": "LayoutModel",
          "state": {
            "_model_module": "@jupyter-widgets/base",
            "_model_module_version": "1.2.0",
            "_model_name": "LayoutModel",
            "_view_count": null,
            "_view_module": "@jupyter-widgets/base",
            "_view_module_version": "1.2.0",
            "_view_name": "LayoutView",
            "align_content": null,
            "align_items": null,
            "align_self": null,
            "border": null,
            "bottom": null,
            "display": null,
            "flex": null,
            "flex_flow": null,
            "grid_area": null,
            "grid_auto_columns": null,
            "grid_auto_flow": null,
            "grid_auto_rows": null,
            "grid_column": null,
            "grid_gap": null,
            "grid_row": null,
            "grid_template_areas": null,
            "grid_template_columns": null,
            "grid_template_rows": null,
            "height": null,
            "justify_content": null,
            "justify_items": null,
            "left": null,
            "margin": null,
            "max_height": null,
            "max_width": null,
            "min_height": null,
            "min_width": null,
            "object_fit": null,
            "object_position": null,
            "order": null,
            "overflow": null,
            "overflow_x": null,
            "overflow_y": null,
            "padding": null,
            "right": null,
            "top": null,
            "visibility": null,
            "width": null
          }
        },
        "43d2b376b6b746b592ff02d00f9b8090": {
          "model_module": "@jupyter-widgets/controls",
          "model_module_version": "1.5.0",
          "model_name": "DescriptionStyleModel",
          "state": {
            "_model_module": "@jupyter-widgets/controls",
            "_model_module_version": "1.5.0",
            "_model_name": "DescriptionStyleModel",
            "_view_count": null,
            "_view_module": "@jupyter-widgets/base",
            "_view_module_version": "1.2.0",
            "_view_name": "StyleView",
            "description_width": ""
          }
        },
        "4e345b4da9f14da6863873fba7358713": {
          "model_module": "@jupyter-widgets/controls",
          "model_module_version": "1.5.0",
          "model_name": "FloatProgressModel",
          "state": {
            "_dom_classes": [],
            "_model_module": "@jupyter-widgets/controls",
            "_model_module_version": "1.5.0",
            "_model_name": "FloatProgressModel",
            "_view_count": null,
            "_view_module": "@jupyter-widgets/controls",
            "_view_module_version": "1.5.0",
            "_view_name": "ProgressView",
            "bar_style": "success",
            "description": "",
            "description_tooltip": null,
            "layout": "IPY_MODEL_a8e495f4b5064b36857bf1afdb58e202",
            "max": 651642216,
            "min": 0,
            "orientation": "horizontal",
            "style": "IPY_MODEL_09d13f42fe324fdaa7e674c5f6e69bb7",
            "value": 651642216
          }
        },
        "53eac89dec9243b6b0b8c3bd64fa037b": {
          "model_module": "@jupyter-widgets/controls",
          "model_module_version": "1.5.0",
          "model_name": "HTMLModel",
          "state": {
            "_dom_classes": [],
            "_model_module": "@jupyter-widgets/controls",
            "_model_module_version": "1.5.0",
            "_model_name": "HTMLModel",
            "_view_count": null,
            "_view_module": "@jupyter-widgets/controls",
            "_view_module_version": "1.5.0",
            "_view_name": "HTMLView",
            "description": "",
            "description_tooltip": null,
            "layout": "IPY_MODEL_138cdbb8355f44feae5372ac8731b715",
            "placeholder": "​",
            "style": "IPY_MODEL_17071094716d40caadd9b97274ae6c4f",
            "value": "special_tokens_map.json: 100%"
          }
        },
        "6d9d6e9114c44b02a67b66f8129036e1": {
          "model_module": "@jupyter-widgets/base",
          "model_module_version": "1.2.0",
          "model_name": "LayoutModel",
          "state": {
            "_model_module": "@jupyter-widgets/base",
            "_model_module_version": "1.2.0",
            "_model_name": "LayoutModel",
            "_view_count": null,
            "_view_module": "@jupyter-widgets/base",
            "_view_module_version": "1.2.0",
            "_view_name": "LayoutView",
            "align_content": null,
            "align_items": null,
            "align_self": null,
            "border": null,
            "bottom": null,
            "display": null,
            "flex": null,
            "flex_flow": null,
            "grid_area": null,
            "grid_auto_columns": null,
            "grid_auto_flow": null,
            "grid_auto_rows": null,
            "grid_column": null,
            "grid_gap": null,
            "grid_row": null,
            "grid_template_areas": null,
            "grid_template_columns": null,
            "grid_template_rows": null,
            "height": null,
            "justify_content": null,
            "justify_items": null,
            "left": null,
            "margin": null,
            "max_height": null,
            "max_width": null,
            "min_height": null,
            "min_width": null,
            "object_fit": null,
            "object_position": null,
            "order": null,
            "overflow": null,
            "overflow_x": null,
            "overflow_y": null,
            "padding": null,
            "right": null,
            "top": null,
            "visibility": null,
            "width": null
          }
        },
        "6fd3bbb9fc614f6e9e2558a1d92bf267": {
          "model_module": "@jupyter-widgets/controls",
          "model_module_version": "1.5.0",
          "model_name": "ProgressStyleModel",
          "state": {
            "_model_module": "@jupyter-widgets/controls",
            "_model_module_version": "1.5.0",
            "_model_name": "ProgressStyleModel",
            "_view_count": null,
            "_view_module": "@jupyter-widgets/base",
            "_view_module_version": "1.2.0",
            "_view_name": "StyleView",
            "bar_color": null,
            "description_width": ""
          }
        },
        "7031c8a0171d414dbd71875daac5b285": {
          "model_module": "@jupyter-widgets/base",
          "model_module_version": "1.2.0",
          "model_name": "LayoutModel",
          "state": {
            "_model_module": "@jupyter-widgets/base",
            "_model_module_version": "1.2.0",
            "_model_name": "LayoutModel",
            "_view_count": null,
            "_view_module": "@jupyter-widgets/base",
            "_view_module_version": "1.2.0",
            "_view_name": "LayoutView",
            "align_content": null,
            "align_items": null,
            "align_self": null,
            "border": null,
            "bottom": null,
            "display": null,
            "flex": null,
            "flex_flow": null,
            "grid_area": null,
            "grid_auto_columns": null,
            "grid_auto_flow": null,
            "grid_auto_rows": null,
            "grid_column": null,
            "grid_gap": null,
            "grid_row": null,
            "grid_template_areas": null,
            "grid_template_columns": null,
            "grid_template_rows": null,
            "height": null,
            "justify_content": null,
            "justify_items": null,
            "left": null,
            "margin": null,
            "max_height": null,
            "max_width": null,
            "min_height": null,
            "min_width": null,
            "object_fit": null,
            "object_position": null,
            "order": null,
            "overflow": null,
            "overflow_x": null,
            "overflow_y": null,
            "padding": null,
            "right": null,
            "top": null,
            "visibility": null,
            "width": null
          }
        },
        "73023989b60341468f5ebe6afe5b8128": {
          "model_module": "@jupyter-widgets/base",
          "model_module_version": "1.2.0",
          "model_name": "LayoutModel",
          "state": {
            "_model_module": "@jupyter-widgets/base",
            "_model_module_version": "1.2.0",
            "_model_name": "LayoutModel",
            "_view_count": null,
            "_view_module": "@jupyter-widgets/base",
            "_view_module_version": "1.2.0",
            "_view_name": "LayoutView",
            "align_content": null,
            "align_items": null,
            "align_self": null,
            "border": null,
            "bottom": null,
            "display": null,
            "flex": null,
            "flex_flow": null,
            "grid_area": null,
            "grid_auto_columns": null,
            "grid_auto_flow": null,
            "grid_auto_rows": null,
            "grid_column": null,
            "grid_gap": null,
            "grid_row": null,
            "grid_template_areas": null,
            "grid_template_columns": null,
            "grid_template_rows": null,
            "height": null,
            "justify_content": null,
            "justify_items": null,
            "left": null,
            "margin": null,
            "max_height": null,
            "max_width": null,
            "min_height": null,
            "min_width": null,
            "object_fit": null,
            "object_position": null,
            "order": null,
            "overflow": null,
            "overflow_x": null,
            "overflow_y": null,
            "padding": null,
            "right": null,
            "top": null,
            "visibility": null,
            "width": null
          }
        },
        "7b11bf01645c4cab893a99098657806a": {
          "model_module": "@jupyter-widgets/controls",
          "model_module_version": "1.5.0",
          "model_name": "HBoxModel",
          "state": {
            "_dom_classes": [],
            "_model_module": "@jupyter-widgets/controls",
            "_model_module_version": "1.5.0",
            "_model_name": "HBoxModel",
            "_view_count": null,
            "_view_module": "@jupyter-widgets/controls",
            "_view_module_version": "1.5.0",
            "_view_name": "HBoxView",
            "box_style": "",
            "children": [
              "IPY_MODEL_2963c9d20c2d469990f2156dfaa59084",
              "IPY_MODEL_4e345b4da9f14da6863873fba7358713",
              "IPY_MODEL_d8f6dab282804178bdcb891c145d87cd"
            ],
            "layout": "IPY_MODEL_f84a1e75e9764f81a57dd5767f71595c"
          }
        },
        "89cfb360673248ecad657bf65d576259": {
          "model_module": "@jupyter-widgets/base",
          "model_module_version": "1.2.0",
          "model_name": "LayoutModel",
          "state": {
            "_model_module": "@jupyter-widgets/base",
            "_model_module_version": "1.2.0",
            "_model_name": "LayoutModel",
            "_view_count": null,
            "_view_module": "@jupyter-widgets/base",
            "_view_module_version": "1.2.0",
            "_view_name": "LayoutView",
            "align_content": null,
            "align_items": null,
            "align_self": null,
            "border": null,
            "bottom": null,
            "display": null,
            "flex": null,
            "flex_flow": null,
            "grid_area": null,
            "grid_auto_columns": null,
            "grid_auto_flow": null,
            "grid_auto_rows": null,
            "grid_column": null,
            "grid_gap": null,
            "grid_row": null,
            "grid_template_areas": null,
            "grid_template_columns": null,
            "grid_template_rows": null,
            "height": null,
            "justify_content": null,
            "justify_items": null,
            "left": null,
            "margin": null,
            "max_height": null,
            "max_width": null,
            "min_height": null,
            "min_width": null,
            "object_fit": null,
            "object_position": null,
            "order": null,
            "overflow": null,
            "overflow_x": null,
            "overflow_y": null,
            "padding": null,
            "right": null,
            "top": null,
            "visibility": null,
            "width": null
          }
        },
        "90e0bbf945c7415a8700351b9561acdb": {
          "model_module": "@jupyter-widgets/controls",
          "model_module_version": "1.5.0",
          "model_name": "HBoxModel",
          "state": {
            "_dom_classes": [],
            "_model_module": "@jupyter-widgets/controls",
            "_model_module_version": "1.5.0",
            "_model_name": "HBoxModel",
            "_view_count": null,
            "_view_module": "@jupyter-widgets/controls",
            "_view_module_version": "1.5.0",
            "_view_name": "HBoxView",
            "box_style": "",
            "children": [
              "IPY_MODEL_9da6890e3c8c4dd0afa3c5bdde5aa1fa",
              "IPY_MODEL_1d426d311eca4e73a7316477a0c9ced3",
              "IPY_MODEL_21cdc4f823e04c0785969c4a371d6288"
            ],
            "layout": "IPY_MODEL_6d9d6e9114c44b02a67b66f8129036e1"
          }
        },
        "9ae60410b4174b93a3f8868200cd59ac": {
          "model_module": "@jupyter-widgets/controls",
          "model_module_version": "1.5.0",
          "model_name": "HTMLModel",
          "state": {
            "_dom_classes": [],
            "_model_module": "@jupyter-widgets/controls",
            "_model_module_version": "1.5.0",
            "_model_name": "HTMLModel",
            "_view_count": null,
            "_view_module": "@jupyter-widgets/controls",
            "_view_module_version": "1.5.0",
            "_view_name": "HTMLView",
            "description": "",
            "description_tooltip": null,
            "layout": "IPY_MODEL_27465c1907aa41f09892cd01dbd32fdb",
            "placeholder": "​",
            "style": "IPY_MODEL_07eea3ed5b254c209f18b0f0f1617d29",
            "value": " 1.20M/? [00:00&lt;00:00, 47.3MB/s]"
          }
        },
        "9da6890e3c8c4dd0afa3c5bdde5aa1fa": {
          "model_module": "@jupyter-widgets/controls",
          "model_module_version": "1.5.0",
          "model_name": "HTMLModel",
          "state": {
            "_dom_classes": [],
            "_model_module": "@jupyter-widgets/controls",
            "_model_module_version": "1.5.0",
            "_model_name": "HTMLModel",
            "_view_count": null,
            "_view_module": "@jupyter-widgets/controls",
            "_view_module_version": "1.5.0",
            "_view_name": "HTMLView",
            "description": "",
            "description_tooltip": null,
            "layout": "IPY_MODEL_04d53ca4b36a4c01bb49f766da7a411b",
            "placeholder": "​",
            "style": "IPY_MODEL_43d2b376b6b746b592ff02d00f9b8090",
            "value": "config.json: 100%"
          }
        },
        "9e6b99517fbb42c9a48e7c35dc3bea2e": {
          "model_module": "@jupyter-widgets/controls",
          "model_module_version": "1.5.0",
          "model_name": "HBoxModel",
          "state": {
            "_dom_classes": [],
            "_model_module": "@jupyter-widgets/controls",
            "_model_module_version": "1.5.0",
            "_model_name": "HBoxModel",
            "_view_count": null,
            "_view_module": "@jupyter-widgets/controls",
            "_view_module_version": "1.5.0",
            "_view_name": "HBoxView",
            "box_style": "",
            "children": [
              "IPY_MODEL_53eac89dec9243b6b0b8c3bd64fa037b",
              "IPY_MODEL_2ab08e86a66c4f5abd092a5d24d3f97a",
              "IPY_MODEL_20936270e63a4692a1543a5252702664"
            ],
            "layout": "IPY_MODEL_e479115ead1d4225a56dd6976a4d6d3d"
          }
        },
        "9faa4aabde95458a80173269fac96123": {
          "model_module": "@jupyter-widgets/base",
          "model_module_version": "1.2.0",
          "model_name": "LayoutModel",
          "state": {
            "_model_module": "@jupyter-widgets/base",
            "_model_module_version": "1.2.0",
            "_model_name": "LayoutModel",
            "_view_count": null,
            "_view_module": "@jupyter-widgets/base",
            "_view_module_version": "1.2.0",
            "_view_name": "LayoutView",
            "align_content": null,
            "align_items": null,
            "align_self": null,
            "border": null,
            "bottom": null,
            "display": null,
            "flex": null,
            "flex_flow": null,
            "grid_area": null,
            "grid_auto_columns": null,
            "grid_auto_flow": null,
            "grid_auto_rows": null,
            "grid_column": null,
            "grid_gap": null,
            "grid_row": null,
            "grid_template_areas": null,
            "grid_template_columns": null,
            "grid_template_rows": null,
            "height": null,
            "justify_content": null,
            "justify_items": null,
            "left": null,
            "margin": null,
            "max_height": null,
            "max_width": null,
            "min_height": null,
            "min_width": null,
            "object_fit": null,
            "object_position": null,
            "order": null,
            "overflow": null,
            "overflow_x": null,
            "overflow_y": null,
            "padding": null,
            "right": null,
            "top": null,
            "visibility": null,
            "width": null
          }
        },
        "a8e495f4b5064b36857bf1afdb58e202": {
          "model_module": "@jupyter-widgets/base",
          "model_module_version": "1.2.0",
          "model_name": "LayoutModel",
          "state": {
            "_model_module": "@jupyter-widgets/base",
            "_model_module_version": "1.2.0",
            "_model_name": "LayoutModel",
            "_view_count": null,
            "_view_module": "@jupyter-widgets/base",
            "_view_module_version": "1.2.0",
            "_view_name": "LayoutView",
            "align_content": null,
            "align_items": null,
            "align_self": null,
            "border": null,
            "bottom": null,
            "display": null,
            "flex": null,
            "flex_flow": null,
            "grid_area": null,
            "grid_auto_columns": null,
            "grid_auto_flow": null,
            "grid_auto_rows": null,
            "grid_column": null,
            "grid_gap": null,
            "grid_row": null,
            "grid_template_areas": null,
            "grid_template_columns": null,
            "grid_template_rows": null,
            "height": null,
            "justify_content": null,
            "justify_items": null,
            "left": null,
            "margin": null,
            "max_height": null,
            "max_width": null,
            "min_height": null,
            "min_width": null,
            "object_fit": null,
            "object_position": null,
            "order": null,
            "overflow": null,
            "overflow_x": null,
            "overflow_y": null,
            "padding": null,
            "right": null,
            "top": null,
            "visibility": null,
            "width": null
          }
        },
        "ac64857d5fc0481a98431a99d02fe915": {
          "model_module": "@jupyter-widgets/controls",
          "model_module_version": "1.5.0",
          "model_name": "DescriptionStyleModel",
          "state": {
            "_model_module": "@jupyter-widgets/controls",
            "_model_module_version": "1.5.0",
            "_model_name": "DescriptionStyleModel",
            "_view_count": null,
            "_view_module": "@jupyter-widgets/base",
            "_view_module_version": "1.2.0",
            "_view_name": "StyleView",
            "description_width": ""
          }
        },
        "b5a20842890045bc99a53d075f702f63": {
          "model_module": "@jupyter-widgets/controls",
          "model_module_version": "1.5.0",
          "model_name": "HBoxModel",
          "state": {
            "_dom_classes": [],
            "_model_module": "@jupyter-widgets/controls",
            "_model_module_version": "1.5.0",
            "_model_name": "HBoxModel",
            "_view_count": null,
            "_view_module": "@jupyter-widgets/controls",
            "_view_module_version": "1.5.0",
            "_view_name": "HBoxView",
            "box_style": "",
            "children": [
              "IPY_MODEL_b949c65a09104d1a96ac7c728cff3ed3",
              "IPY_MODEL_2376d9d55a524088a2a055430f2346c5",
              "IPY_MODEL_9ae60410b4174b93a3f8868200cd59ac"
            ],
            "layout": "IPY_MODEL_89cfb360673248ecad657bf65d576259"
          }
        },
        "b949c65a09104d1a96ac7c728cff3ed3": {
          "model_module": "@jupyter-widgets/controls",
          "model_module_version": "1.5.0",
          "model_name": "HTMLModel",
          "state": {
            "_dom_classes": [],
            "_model_module": "@jupyter-widgets/controls",
            "_model_module_version": "1.5.0",
            "_model_name": "HTMLModel",
            "_view_count": null,
            "_view_module": "@jupyter-widgets/controls",
            "_view_module_version": "1.5.0",
            "_view_name": "HTMLView",
            "description": "",
            "description_tooltip": null,
            "layout": "IPY_MODEL_f9adcc2ca3364aab96e308c3173b0c39",
            "placeholder": "​",
            "style": "IPY_MODEL_e8778889f4b94e49a27abce635cc5d45",
            "value": "vocab.txt: "
          }
        },
        "bd95db3712f14204b7ff3b53c08ec225": {
          "model_module": "@jupyter-widgets/base",
          "model_module_version": "1.2.0",
          "model_name": "LayoutModel",
          "state": {
            "_model_module": "@jupyter-widgets/base",
            "_model_module_version": "1.2.0",
            "_model_name": "LayoutModel",
            "_view_count": null,
            "_view_module": "@jupyter-widgets/base",
            "_view_module_version": "1.2.0",
            "_view_name": "LayoutView",
            "align_content": null,
            "align_items": null,
            "align_self": null,
            "border": null,
            "bottom": null,
            "display": null,
            "flex": null,
            "flex_flow": null,
            "grid_area": null,
            "grid_auto_columns": null,
            "grid_auto_flow": null,
            "grid_auto_rows": null,
            "grid_column": null,
            "grid_gap": null,
            "grid_row": null,
            "grid_template_areas": null,
            "grid_template_columns": null,
            "grid_template_rows": null,
            "height": null,
            "justify_content": null,
            "justify_items": null,
            "left": null,
            "margin": null,
            "max_height": null,
            "max_width": null,
            "min_height": null,
            "min_width": null,
            "object_fit": null,
            "object_position": null,
            "order": null,
            "overflow": null,
            "overflow_x": null,
            "overflow_y": null,
            "padding": null,
            "right": null,
            "top": null,
            "visibility": null,
            "width": null
          }
        },
        "c4303747ff9f455590f4c2abbfbdb2dd": {
          "model_module": "@jupyter-widgets/controls",
          "model_module_version": "1.5.0",
          "model_name": "FloatProgressModel",
          "state": {
            "_dom_classes": [],
            "_model_module": "@jupyter-widgets/controls",
            "_model_module_version": "1.5.0",
            "_model_name": "FloatProgressModel",
            "_view_count": null,
            "_view_module": "@jupyter-widgets/controls",
            "_view_module_version": "1.5.0",
            "_view_name": "ProgressView",
            "bar_style": "success",
            "description": "",
            "description_tooltip": null,
            "layout": "IPY_MODEL_7031c8a0171d414dbd71875daac5b285",
            "max": 62,
            "min": 0,
            "orientation": "horizontal",
            "style": "IPY_MODEL_22490c241515487289781ea8776a2ba1",
            "value": 62
          }
        },
        "cbeb65ae38c44a0289a6bf3b10edc179": {
          "model_module": "@jupyter-widgets/base",
          "model_module_version": "1.2.0",
          "model_name": "LayoutModel",
          "state": {
            "_model_module": "@jupyter-widgets/base",
            "_model_module_version": "1.2.0",
            "_model_name": "LayoutModel",
            "_view_count": null,
            "_view_module": "@jupyter-widgets/base",
            "_view_module_version": "1.2.0",
            "_view_name": "LayoutView",
            "align_content": null,
            "align_items": null,
            "align_self": null,
            "border": null,
            "bottom": null,
            "display": null,
            "flex": null,
            "flex_flow": null,
            "grid_area": null,
            "grid_auto_columns": null,
            "grid_auto_flow": null,
            "grid_auto_rows": null,
            "grid_column": null,
            "grid_gap": null,
            "grid_row": null,
            "grid_template_areas": null,
            "grid_template_columns": null,
            "grid_template_rows": null,
            "height": null,
            "justify_content": null,
            "justify_items": null,
            "left": null,
            "margin": null,
            "max_height": null,
            "max_width": null,
            "min_height": null,
            "min_width": null,
            "object_fit": null,
            "object_position": null,
            "order": null,
            "overflow": null,
            "overflow_x": null,
            "overflow_y": null,
            "padding": null,
            "right": null,
            "top": null,
            "visibility": null,
            "width": null
          }
        },
        "d7527c937e4b453bac1606ea38c1f8a7": {
          "model_module": "@jupyter-widgets/controls",
          "model_module_version": "1.5.0",
          "model_name": "DescriptionStyleModel",
          "state": {
            "_model_module": "@jupyter-widgets/controls",
            "_model_module_version": "1.5.0",
            "_model_name": "DescriptionStyleModel",
            "_view_count": null,
            "_view_module": "@jupyter-widgets/base",
            "_view_module_version": "1.2.0",
            "_view_name": "StyleView",
            "description_width": ""
          }
        },
        "d7665a4a450c4435bd8f6085c44e3a69": {
          "model_module": "@jupyter-widgets/controls",
          "model_module_version": "1.5.0",
          "model_name": "HTMLModel",
          "state": {
            "_dom_classes": [],
            "_model_module": "@jupyter-widgets/controls",
            "_model_module_version": "1.5.0",
            "_model_name": "HTMLModel",
            "_view_count": null,
            "_view_module": "@jupyter-widgets/controls",
            "_view_module_version": "1.5.0",
            "_view_name": "HTMLView",
            "description": "",
            "description_tooltip": null,
            "layout": "IPY_MODEL_0f4b3eb03cb94ad29075644d616cd56e",
            "placeholder": "​",
            "style": "IPY_MODEL_2c7dba39cce649ccbb5da72dfc789d1f",
            "value": " 62.0/62.0 [00:00&lt;00:00, 6.49kB/s]"
          }
        },
        "d7ed4b54108f4d92aa650bb9e85a5e4d": {
          "model_module": "@jupyter-widgets/base",
          "model_module_version": "1.2.0",
          "model_name": "LayoutModel",
          "state": {
            "_model_module": "@jupyter-widgets/base",
            "_model_module_version": "1.2.0",
            "_model_name": "LayoutModel",
            "_view_count": null,
            "_view_module": "@jupyter-widgets/base",
            "_view_module_version": "1.2.0",
            "_view_name": "LayoutView",
            "align_content": null,
            "align_items": null,
            "align_self": null,
            "border": null,
            "bottom": null,
            "display": null,
            "flex": null,
            "flex_flow": null,
            "grid_area": null,
            "grid_auto_columns": null,
            "grid_auto_flow": null,
            "grid_auto_rows": null,
            "grid_column": null,
            "grid_gap": null,
            "grid_row": null,
            "grid_template_areas": null,
            "grid_template_columns": null,
            "grid_template_rows": null,
            "height": null,
            "justify_content": null,
            "justify_items": null,
            "left": null,
            "margin": null,
            "max_height": null,
            "max_width": null,
            "min_height": null,
            "min_width": null,
            "object_fit": null,
            "object_position": null,
            "order": null,
            "overflow": null,
            "overflow_x": null,
            "overflow_y": null,
            "padding": null,
            "right": null,
            "top": null,
            "visibility": null,
            "width": null
          }
        },
        "d8f6dab282804178bdcb891c145d87cd": {
          "model_module": "@jupyter-widgets/controls",
          "model_module_version": "1.5.0",
          "model_name": "HTMLModel",
          "state": {
            "_dom_classes": [],
            "_model_module": "@jupyter-widgets/controls",
            "_model_module_version": "1.5.0",
            "_model_name": "HTMLModel",
            "_view_count": null,
            "_view_module": "@jupyter-widgets/controls",
            "_view_module_version": "1.5.0",
            "_view_name": "HTMLView",
            "description": "",
            "description_tooltip": null,
            "layout": "IPY_MODEL_9faa4aabde95458a80173269fac96123",
            "placeholder": "​",
            "style": "IPY_MODEL_2f94364617e14275a0f1c395bb9405e0",
            "value": " 652M/652M [00:11&lt;00:00, 69.0MB/s]"
          }
        },
        "dda7dcd782644b87ab607ead502b32d3": {
          "model_module": "@jupyter-widgets/controls",
          "model_module_version": "1.5.0",
          "model_name": "ProgressStyleModel",
          "state": {
            "_model_module": "@jupyter-widgets/controls",
            "_model_module_version": "1.5.0",
            "_model_name": "ProgressStyleModel",
            "_view_count": null,
            "_view_module": "@jupyter-widgets/base",
            "_view_module_version": "1.2.0",
            "_view_name": "StyleView",
            "bar_color": null,
            "description_width": ""
          }
        },
        "e479115ead1d4225a56dd6976a4d6d3d": {
          "model_module": "@jupyter-widgets/base",
          "model_module_version": "1.2.0",
          "model_name": "LayoutModel",
          "state": {
            "_model_module": "@jupyter-widgets/base",
            "_model_module_version": "1.2.0",
            "_model_name": "LayoutModel",
            "_view_count": null,
            "_view_module": "@jupyter-widgets/base",
            "_view_module_version": "1.2.0",
            "_view_name": "LayoutView",
            "align_content": null,
            "align_items": null,
            "align_self": null,
            "border": null,
            "bottom": null,
            "display": null,
            "flex": null,
            "flex_flow": null,
            "grid_area": null,
            "grid_auto_columns": null,
            "grid_auto_flow": null,
            "grid_auto_rows": null,
            "grid_column": null,
            "grid_gap": null,
            "grid_row": null,
            "grid_template_areas": null,
            "grid_template_columns": null,
            "grid_template_rows": null,
            "height": null,
            "justify_content": null,
            "justify_items": null,
            "left": null,
            "margin": null,
            "max_height": null,
            "max_width": null,
            "min_height": null,
            "min_width": null,
            "object_fit": null,
            "object_position": null,
            "order": null,
            "overflow": null,
            "overflow_x": null,
            "overflow_y": null,
            "padding": null,
            "right": null,
            "top": null,
            "visibility": null,
            "width": null
          }
        },
        "e8778889f4b94e49a27abce635cc5d45": {
          "model_module": "@jupyter-widgets/controls",
          "model_module_version": "1.5.0",
          "model_name": "DescriptionStyleModel",
          "state": {
            "_model_module": "@jupyter-widgets/controls",
            "_model_module_version": "1.5.0",
            "_model_name": "DescriptionStyleModel",
            "_view_count": null,
            "_view_module": "@jupyter-widgets/base",
            "_view_module_version": "1.2.0",
            "_view_name": "StyleView",
            "description_width": ""
          }
        },
        "f129484b16434ec195d11b5844149a1e": {
          "model_module": "@jupyter-widgets/controls",
          "model_module_version": "1.5.0",
          "model_name": "ProgressStyleModel",
          "state": {
            "_model_module": "@jupyter-widgets/controls",
            "_model_module_version": "1.5.0",
            "_model_name": "ProgressStyleModel",
            "_view_count": null,
            "_view_module": "@jupyter-widgets/base",
            "_view_module_version": "1.2.0",
            "_view_name": "StyleView",
            "bar_color": null,
            "description_width": ""
          }
        },
        "f84a1e75e9764f81a57dd5767f71595c": {
          "model_module": "@jupyter-widgets/base",
          "model_module_version": "1.2.0",
          "model_name": "LayoutModel",
          "state": {
            "_model_module": "@jupyter-widgets/base",
            "_model_module_version": "1.2.0",
            "_model_name": "LayoutModel",
            "_view_count": null,
            "_view_module": "@jupyter-widgets/base",
            "_view_module_version": "1.2.0",
            "_view_name": "LayoutView",
            "align_content": null,
            "align_items": null,
            "align_self": null,
            "border": null,
            "bottom": null,
            "display": null,
            "flex": null,
            "flex_flow": null,
            "grid_area": null,
            "grid_auto_columns": null,
            "grid_auto_flow": null,
            "grid_auto_rows": null,
            "grid_column": null,
            "grid_gap": null,
            "grid_row": null,
            "grid_template_areas": null,
            "grid_template_columns": null,
            "grid_template_rows": null,
            "height": null,
            "justify_content": null,
            "justify_items": null,
            "left": null,
            "margin": null,
            "max_height": null,
            "max_width": null,
            "min_height": null,
            "min_width": null,
            "object_fit": null,
            "object_position": null,
            "order": null,
            "overflow": null,
            "overflow_x": null,
            "overflow_y": null,
            "padding": null,
            "right": null,
            "top": null,
            "visibility": null,
            "width": null
          }
        },
        "f9adcc2ca3364aab96e308c3173b0c39": {
          "model_module": "@jupyter-widgets/base",
          "model_module_version": "1.2.0",
          "model_name": "LayoutModel",
          "state": {
            "_model_module": "@jupyter-widgets/base",
            "_model_module_version": "1.2.0",
            "_model_name": "LayoutModel",
            "_view_count": null,
            "_view_module": "@jupyter-widgets/base",
            "_view_module_version": "1.2.0",
            "_view_name": "LayoutView",
            "align_content": null,
            "align_items": null,
            "align_self": null,
            "border": null,
            "bottom": null,
            "display": null,
            "flex": null,
            "flex_flow": null,
            "grid_area": null,
            "grid_auto_columns": null,
            "grid_auto_flow": null,
            "grid_auto_rows": null,
            "grid_column": null,
            "grid_gap": null,
            "grid_row": null,
            "grid_template_areas": null,
            "grid_template_columns": null,
            "grid_template_rows": null,
            "height": null,
            "justify_content": null,
            "justify_items": null,
            "left": null,
            "margin": null,
            "max_height": null,
            "max_width": null,
            "min_height": null,
            "min_width": null,
            "object_fit": null,
            "object_position": null,
            "order": null,
            "overflow": null,
            "overflow_x": null,
            "overflow_y": null,
            "padding": null,
            "right": null,
            "top": null,
            "visibility": null,
            "width": null
          }
        },
        "f9d393719385415ba339fecba82609e5": {
          "model_module": "@jupyter-widgets/controls",
          "model_module_version": "1.5.0",
          "model_name": "HTMLModel",
          "state": {
            "_dom_classes": [],
            "_model_module": "@jupyter-widgets/controls",
            "_model_module_version": "1.5.0",
            "_model_name": "HTMLModel",
            "_view_count": null,
            "_view_module": "@jupyter-widgets/controls",
            "_view_module_version": "1.5.0",
            "_view_name": "HTMLView",
            "description": "",
            "description_tooltip": null,
            "layout": "IPY_MODEL_cbeb65ae38c44a0289a6bf3b10edc179",
            "placeholder": "​",
            "style": "IPY_MODEL_d7527c937e4b453bac1606ea38c1f8a7",
            "value": "tokenizer_config.json: 100%"
          }
        }
      }
    }
  },
  "nbformat": 4,
  "nbformat_minor": 5
}
